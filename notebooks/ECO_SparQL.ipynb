{
 "cells": [
  {
   "cell_type": "markdown",
   "id": "sixth-prince",
   "metadata": {
    "id": "GXzeuoO2zHt_"
   },
   "source": [
    "# EarthCube SPARQL Queries\n",
    "\n",
    "## About\n",
    "\n",
    "This is the start of learning a bit about the SPARQL to access the\n",
    "EarthCube graph store.\n",
    "\n",
    "\n",
    "\n",
    "## References\n",
    "\n"
   ]
  },
  {
   "cell_type": "markdown",
   "id": "reliable-essence",
   "metadata": {
    "id": "XWFreoui0eMJ"
   },
   "source": [
    "## Installs"
   ]
  },
  {
   "cell_type": "code",
   "execution_count": 1,
   "id": "actual-situation",
   "metadata": {
    "colab": {
     "base_uri": "https://localhost:8080/",
     "height": 185
    },
    "id": "YvgJU6970gfJ",
    "outputId": "6d2e22c6-9b27-4162-80e9-7390e21ac72c"
   },
   "outputs": [
    {
     "name": "stdout",
     "output_type": "stream",
     "text": [
      "\u001B[31mERROR: pip's dependency resolver does not currently take into account all the packages that are installed. This behaviour is the source of the following dependency conflicts.\r\n",
      "boto3 1.17.41 requires botocore<1.21.0,>=1.20.41, but you have botocore 1.19.52 which is incompatible.\u001B[0m\r\n",
      "\u001B[31mERROR: pip's dependency resolver does not currently take into account all the packages that are installed. This behaviour is the source of the following dependency conflicts.\r\n",
      "aiobotocore 1.2.2 requires botocore<1.19.53,>=1.19.52, but you have botocore 1.20.41 which is incompatible.\u001B[0m\r\n"
     ]
    }
   ],
   "source": [
    "!pip -q install mimesis\n",
    "!pip -q install minio \n",
    "!pip -q install s3fs\n",
    "!pip -q install SPARQLWrapper\n",
    "!pip -q install boto3\n",
    "!pip -q install 'fsspec>=0.3.3'\n",
    "!pip -q install rdflib\n",
    "!pip -q install rdflib-jsonld\n",
    "!pip -q install PyLD==2.0.2"
   ]
  },
  {
   "cell_type": "markdown",
   "id": "regular-latex",
   "metadata": {
    "id": "B5cajEkMzsp6"
   },
   "source": [
    "## Imports\n"
   ]
  },
  {
   "cell_type": "code",
   "execution_count": 4,
   "id": "overhead-science",
   "metadata": {
    "id": "hoCJfO4s0BF_"
   },
   "outputs": [],
   "source": [
    "import dask, boto3\n",
    "import dask.dataframe as dd\n",
    "import pandas as pd\n",
    "import json\n",
    "from string import Template\n",
    "\n",
    "from SPARQLWrapper import SPARQLWrapper, JSON\n",
    "\n",
    "sweet = \"http://cor.esipfed.org/sparql\"\n",
    "dbsparql = \"http://dbpedia.org/sparql\"\n",
    "ufokn = \"http://graph.ufokn.org/blazegraph/namespace/ufokn-dev/sparql\"\n",
    "ecograph = \"https://graph.geodex.org/blazegraph/namespace/nabu/sparql\""
   ]
  },
  {
   "cell_type": "markdown",
   "id": "balanced-question",
   "metadata": {
    "id": "9dwMsNlX0FIv"
   },
   "source": [
    "## Code inits"
   ]
  },
  {
   "cell_type": "markdown",
   "id": "polar-undergraduate",
   "metadata": {
    "id": "VPCguN7dQnVz"
   },
   "source": [
    "### Helper function(s)\n",
    "The following block is a SPARQL to Pandas feature.  You may need to run it to load the function per standard notebook actions."
   ]
  },
  {
   "cell_type": "code",
   "execution_count": 5,
   "id": "naval-tournament",
   "metadata": {
    "id": "KlU0kr2R00i_"
   },
   "outputs": [],
   "source": [
    "#@title\n",
    "def get_sparql_dataframe(service, query):\n",
    "    \"\"\"\n",
    "    Helper function to convert SPARQL results into a Pandas data frame.\n",
    "    \"\"\"\n",
    "    sparql = SPARQLWrapper(service)\n",
    "    sparql.setQuery(query)\n",
    "    sparql.setReturnFormat(JSON)\n",
    "    result = sparql.query()\n",
    "\n",
    "    processed_results = json.load(result.response)\n",
    "    cols = processed_results['head']['vars']\n",
    "\n",
    "    out = []\n",
    "    for row in processed_results['results']['bindings']:\n",
    "        item = []\n",
    "        for c in cols:\n",
    "            item.append(row.get(c, {}).get('value'))\n",
    "        out.append(item)\n",
    "\n",
    "    return pd.DataFrame(out, columns=cols)"
   ]
  },
  {
   "cell_type": "markdown",
   "id": "recorded-triumph",
   "metadata": {
    "id": "gF-jNcIplO3X"
   },
   "source": [
    "### Set up some Pandas Dataframe options"
   ]
  },
  {
   "cell_type": "code",
   "execution_count": 6,
   "id": "explicit-excitement",
   "metadata": {
    "colab": {
     "base_uri": "https://localhost:8080/",
     "height": 74
    },
    "id": "Nkiij1wElRrf",
    "outputId": "0f8a88aa-3c71-49f4-98a4-e58396f15412"
   },
   "outputs": [],
   "source": [
    "pd.set_option('display.max_rows', None)\n",
    "pd.set_option('display.max_columns', None)\n",
    "pd.set_option('display.width', None)\n",
    "pd.set_option('display.max_colwidth', None)"
   ]
  },
  {
   "cell_type": "markdown",
   "id": "favorite-suggestion",
   "metadata": {
    "id": "90tBuePF6NCf"
   },
   "source": [
    "### Set up the connection to the object store to access the graph objects from\n"
   ]
  },
  {
   "cell_type": "markdown",
   "id": "terminal-protocol",
   "metadata": {},
   "source": [
    "Basic Query\n",
    "\n",
    "```SPARQL\n",
    "prefix schema: <http://schema.org/>\n",
    "prefix sschema: <https://schema.org/>\n",
    "SELECT DISTINCT ?s ?g  (MIN(?disurl) as ?url) (MAX(?score1) as ?score)   ?name ?description\n",
    "WHERE {\n",
    "  ?lit bds:search \"${q}\" .\n",
    "  ?lit bds:matchAllTerms ${exact} .\n",
    "  ?lit bds:relevance ?score1 .\n",
    "  ?s ?p ?lit .\n",
    "\n",
    "  VALUES (?dataset) { ( schema:Dataset ) ( sschema:Dataset ) }\n",
    "  ?s a ?dataset .\n",
    "  ?s schema:name|sschema:name ?name .\n",
    "\n",
    "  graph ?g {\n",
    "  ?s schema:description|sschema:description ?description .\n",
    "  }\n",
    "\n",
    "  OPTIONAL {\n",
    "\t?s schema:distribution|sschema:distribution ?dis .\n",
    "\t?dis schema:contentUrl |sschema:contentUrl  ?disurl .\n",
    "  }\n",
    "\n",
    "}\n",
    "GROUP BY ?s ?g ?name ?description\n",
    "ORDER BY DESC(?score1)\n",
    "LIMIT ${n}\n",
    "OFFSET ${o}\n",
    "```"
   ]
  },
  {
   "cell_type": "markdown",
   "source": [
    "10 results for  for Carbon"
   ],
   "metadata": {
    "collapsed": false,
    "pycharm": {
     "name": "#%% md\n"
    }
   }
  },
  {
   "cell_type": "code",
   "execution_count": 7,
   "id": "filled-shakespeare",
   "metadata": {},
   "outputs": [
    {
     "name": "stdout",
     "output_type": "stream",
     "text": [
      "                                        s  \\\n",
      "0  https://www.bco-dmo.org/dataset/527438   \n",
      "1  https://www.bco-dmo.org/dataset/540078   \n",
      "2  https://www.bco-dmo.org/dataset/540138   \n",
      "3  https://www.bco-dmo.org/dataset/527780   \n",
      "4  https://www.bco-dmo.org/dataset/671199   \n",
      "5  https://www.bco-dmo.org/dataset/828861   \n",
      "6    https://www.bco-dmo.org/dataset/4041   \n",
      "7  https://www.bco-dmo.org/dataset/664454   \n",
      "8  https://www.bco-dmo.org/dataset/540098   \n",
      "9  https://www.bco-dmo.org/dataset/540108   \n",
      "\n",
      "                                                                    g  \\\n",
      "0  urn:gleaner:milled:bcodmo:ad43da2f953e0320f3e7d7305d09d7b9c47d5962   \n",
      "1  urn:gleaner:milled:bcodmo:b794608720cb4e8638f135e26a7f53a73d8b9178   \n",
      "2  urn:gleaner:milled:bcodmo:c571333fe646733978f124bc1a66f37905e0f832   \n",
      "3  urn:gleaner:milled:bcodmo:c5b95020782360b1d0e3cd01270dfd1f6ea1ee48   \n",
      "4  urn:gleaner:milled:bcodmo:ca8a2e54dafb686d5b1a9c3766629e7fb74666d1   \n",
      "5  urn:gleaner:milled:bcodmo:ca991aadfc507fe671319966fe2368ecb632ff04   \n",
      "6  urn:gleaner:milled:bcodmo:cbbed72fcfd2bce4791293bc4a2f1968d20cd8b8   \n",
      "7  urn:gleaner:milled:bcodmo:cc25b96bd965ace23b0f146e1d8668c81e476e72   \n",
      "8  urn:gleaner:milled:bcodmo:ce1f19394af58e71098cc56ba54fb0f201a67d58   \n",
      "9  urn:gleaner:milled:bcodmo:d211d71e279e6360933d3eb0f6d286bb39a5d695   \n",
      "\n",
      "                                                                         url  \\\n",
      "0                       https://www.bco-dmo.org/dataset/527438/data/download   \n",
      "1                       https://www.bco-dmo.org/dataset/540078/data/download   \n",
      "2                       https://www.bco-dmo.org/dataset/540138/data/download   \n",
      "3                       https://www.bco-dmo.org/dataset/527780/data/download   \n",
      "4                       https://www.bco-dmo.org/dataset/671199/data/download   \n",
      "5  https://datadocs.bco-dmo.org/data/302/BIO-SED/828861/1/data/P_cm3_mat.zip   \n",
      "6                         https://www.bco-dmo.org/dataset/4041/data/download   \n",
      "7                       https://www.bco-dmo.org/dataset/664454/data/download   \n",
      "8                       https://www.bco-dmo.org/dataset/540098/data/download   \n",
      "9                       https://www.bco-dmo.org/dataset/540108/data/download   \n",
      "\n",
      "      score  \\\n",
      "0   0.09375   \n",
      "1    0.0625   \n",
      "2    0.0625   \n",
      "3  0.078125   \n",
      "4      0.25   \n",
      "5   0.09375   \n",
      "6  0.078125   \n",
      "7      0.25   \n",
      "8    0.0625   \n",
      "9    0.0625   \n",
      "\n",
      "                                                                                                                                                                                                         name  \\\n",
      "0                                                                                          Underway data from USCGC Healy cruise HLY1202 from the Arctic, North of Alaska in 2012 (OA - Canada Basin project)   \n",
      "1          pCO2 as one of multiple stressors for Thalassiosira weissflogii - Cell Characteristics: Chl per cell from UCSB MSI Passow Lab from 2009 to 2010 (OA - Ocean Acidification and Aggregation project)   \n",
      "2                              pCO2 as one of multiple stressors for Thalassiosira weissflogii - growth rates - from UCSB MSI Passow Lab from 2009 to 2010 (OA - Ocean Acidification and Aggregation project)   \n",
      "3                                                                                   Discrete lab results from USCGC Healy cruise HLY1202 from the Arctic, North of Alaska in 2012 (OA - Canada Basin project)   \n",
      "4                                       Solid phase chemistry from gravity cores taken during R/V Atlantis cruise AT26-24 at the Dorado Outcrop near Cocos Ridge in December of 2014 (Dorado Outcrop project)   \n",
      "5                          Power produced by microbial POC degradation in Quaternary-age sediment quantified from bio-energetic modeling of subseafloor parameters on a 0.25Â°Ã0.25Â° resolution global grid   \n",
      "6                          Results of experiments examining cellular growth by Crocosphaera watsonii (WH0003) under differing levels of phosphate, light, and pCO2; conducted in the Hutchins Laboratory, USC   \n",
      "7                                                   Chemistry from discrete samples of hydrothermal springs sampled by the HOV Alvin during R/V Atlantis cruise AT26-24 at Dorado Outcrop in December of 2014   \n",
      "8  pCO2 as one of multiple stressors for Thalassiosira weissflogii - Cell Characteristics - dry weight per cell from UCSB MSI Passow Lab from 2009 to 2010 (OA - Ocean Acidification and Aggregation project)   \n",
      "9         pCO2 as one of multiple stressors for Thalassiosira weissflogii - Cell Characteristics - POC per cell from UCSB MSI Passow Lab from 2009 to 2010 (OA - Ocean Acidification and Aggregation project)   \n",
      "\n",
      "                                                                                                                                                                                                                                                                                                                                                                                                                                                                                                                                                                                                                                                                                                                                                                                                                                                                                                                                                                                                                                                                                                                                                                                                                                                                                                                                                                                                                                                                                                                                                                                                                                                                                                                                                                                                                                                                     description  \n",
      "0                                                                                                                                                                                                                                                                                                                                                                                                                                                                                                                                                                                                                                                                                                                                                                                                                                                                                                                                                                                                                                                                                                                                                                                                                                                                                                                          <p>USGS Arctic Ocean Carbon Cruise 2012: Onboard Sensors Underway Data<br />\\r\\nUnderway data that was acquired with the USCGC Healy's onboard fixed instrumentation.</p>\\r\\n\\r\\n<p>For aditional information see:<br />\\r\\n<a href=\"http://dmoserv3.whoi.edu/data_docs/OA_Canada_Basin/HEALY1202_FINAL_CRUISE_REPORT-3.pdf\" target=\"_blank\">HLY1202 Cruise Report, Appendix E</a><br />\\r\\n<a href=\"http://dmoserv3.whoi.edu/data_docs/OA_Canada_Basin/ds_methods.html\" target=\"_blank\">U.S. Geological Survey Data Series 862 - Methods</a></p>\\r\\n  \n",
      "1  <p>The increase in partial pressure of CO2 (pCO2) is causing ocean acidification, which impacts the<br />\\r\\ngrowth rates and elemental composition of phytoplankton. Here, shifts in growth rates and cell<br />\\r\\nquotas of Thalassiosira weissflogii grown under a variety of different temperatures, irradiances,<br />\\r\\nand pCO2 conditions are discussed. The presented data suggest that acclimatization times of<br />\\r\\nexponentially growing diatoms to environmental perturbations may be weeks to months, rather<br />\\r\\nthan days to weeks. The response of acclimatized T. weissflogii to pCO2 depended on irradiance<br />\\r\\nand temperature and was highly interactive, non-linear, and non-uniform. A very significant<br />\\r\\nnegative effect of pCO2 was observed under growth conditions that were light-, and<br />\\r\\ntemperature-limited; a smaller, but still significant negative response was seen under<br />\\r\\nlight-limiting growth conditions, whereas pCO2 did not affect growth rates of T. weissflogii under<br />\\r\\nlight-saturated growth conditions. Cell quotas of organic carbon, nitrogen, or chlorophyll a were<br />\\r\\nlinked to growth rate. The cell-normalized production of transparent exopolymer particles (TEP)<br />\\r\\nwas positively correlated with POC cell quotas, with some minor impact of irradiance and pCO2<br />\\r\\non the relationship. This correlation of TEP production with carbon cell quotas is consistent with<br />\\r\\nthe hypothesis that extracellular release is an inherent component of cell metabolism. Results<br />\\r\\nsuggest that elevated pCO2 functions as an (additional) metabolic stressor for T. weissflogii and<br />\\r\\nthat the interaction of different stressors determines growth rates and cell characteristics in a<br />\\r\\ncomplex, non-linear relationship.</p>\\r\\n  \n",
      "2  <p>The increase in partial pressure of CO2 (pCO2) is causing ocean acidification, which impacts the<br />\\r\\ngrowth rates and elemental composition of phytoplankton. Here, shifts in growth rates and cell<br />\\r\\nquotas of Thalassiosira weissflogii grown under a variety of different temperatures, irradiances,<br />\\r\\nand pCO2 conditions are discussed. The presented data suggest that acclimatization times of<br />\\r\\nexponentially growing diatoms to environmental perturbations may be weeks to months, rather<br />\\r\\nthan days to weeks. The response of acclimatized T. weissflogii to pCO2 depended on irradiance<br />\\r\\nand temperature and was highly interactive, non-linear, and non-uniform. A very significant<br />\\r\\nnegative effect of pCO2 was observed under growth conditions that were light-, and<br />\\r\\ntemperature-limited; a smaller, but still significant negative response was seen under<br />\\r\\nlight-limiting growth conditions, whereas pCO2 did not affect growth rates of T. weissflogii under<br />\\r\\nlight-saturated growth conditions. Cell quotas of organic carbon, nitrogen, or chlorophyll a were<br />\\r\\nlinked to growth rate. The cell-normalized production of transparent exopolymer particles (TEP)<br />\\r\\nwas positively correlated with POC cell quotas, with some minor impact of irradiance and pCO2<br />\\r\\non the relationship. This correlation of TEP production with carbon cell quotas is consistent with<br />\\r\\nthe hypothesis that extracellular release is an inherent component of cell metabolism. Results<br />\\r\\nsuggest that elevated pCO2 functions as an (additional) metabolic stressor for T. weissflogii and<br />\\r\\nthat the interaction of different stressors determines growth rates and cell characteristics in a<br />\\r\\ncomplex, non-linear relationship.</p>\\r\\n  \n",
      "3                                                                                                                                                                                                                                                                                                                                                                                                                                                                                                                                                                                                                                                                                                                                                                                                                                                                                                                                                                                                                                                                                                                                                                                                                                                                                                   <p>USGS Arctic Ocean Carbon Cruise 2012: Discrete Underway Laboratory Data<br />\\r\\nDiscrete underway seawater samples that were analyzed in an onshore-laboratory after the HLY 2012 cruise</p>\\r\\n\\r\\n<p>For aditional information see:<br />\\r\\n<a href=\"http://dmoserv3.whoi.edu/data_docs/OA_Canada_Basin/HEALY1202_FINAL_CRUISE_REPORT-3.pdf\" target=\"_blank\">HLY1202 Cruise Report, Appendix E</a><br />\\r\\n<a href=\"http://dmoserv3.whoi.edu/data_docs/OA_Canada_Basin/ds_methods.html\" target=\"_blank\">U.S. Geological Survey Data Series 862 - Methods</a></p>\\r\\n  \n",
      "4                                                                                                                                                                                                                                                                                                                                                                                                                                                                                                                                                                                                                                                                                                                                                                                                                                                                                                                                                                                                                                                                                                                                                                                                                                                                                                                                                                                                                                                                                                                         <p>This dataset contains concentrations of calcium carbonate (CaCO3), total inorganic carbon (TIC), organic carbon (OC), nitrogen (N), d13C, and refractory concentrations of various metals (Fe, Cr, Cu, Mn, Zn). Gravity cores were collected during the&nbsp;R/V Atlantis cruise AT26-24 by the submersible&nbsp;Alvin in December of 2014.</p>\\r\\n  \n",
      "5                                                                                                                                                                                                                                                                                                                                                                                                                                                                                                                                                                                                                                                                                                                                                                                                                                                                                                                                                                                                                                                                                                                                                                                                                          <p>Additional funding to the Center for Dark Energy Biosphere Investigations [C-DEBI] award OCE-0939564:<br />\\r\\n<br />\\r\\nDeep Carbon Observatory (the Deep Life Modelling and Visualization (DLMV) and Deep Energy programs); NASA Astrobiology InstituteâLife Underground (NAI-LU, NNA13AA92A); the NASA Astrobiology Program under the Joint NASA-NSF Ideas Lab on the âOrigins of Lifeâ (NSF Solicitation 16-570); the Alexander von Humboldt Foundation; NERC (NE/T010967/1); European Union Horizon 2020 under the Marie SkÅodowska-Curie grant agreement no. 643052 (C-CASCADES); USC Zumberge Fund Individual Grant Program.</p>\\r\\n  \n",
      "6                                                                                                                                                                                                                                                                                                                                                                                                                                                                                                                                                                                                                                                                                                                                                                                                                                                                                                                                                                                                                                                                 <p>Results of a laboratory experiment examining cellular growth of the WH0003 isolate of<em> Crocosphaera watsonii</em> in response to different levels of phosphate, light, and pCO2. WH0003 was isolated near Sta. ALOHA (A Long Term Oligotrophic Habitat Assessment) in the North Pacific Ocean near Hawaii (22 deg 45' N, 158 deg 00' W).</p>\\r\\n\\r\\n<p>Detailed methods and results are described in the following publication (see Figure 2):<br />\\r\\nGarcia, N.S., Fu, F.X., and Hutchins, D.A.&nbsp; (2013). Colimitation of the unicellular photosynthetic diazotroph Crocosphaera watsonii by phosphorus, light, and carbon dioxide. Limnology and Oceanography 58(4): 1501-1512. DOI: <a href=\"http://dx.doi.org/10.4319/lo.2013.58.4.1501\" target=\"_blank\">10.4319/lo.2013.58.4.1501</a></p>\\r\\n  \n",
      "7                                                                                                                                                                                                                                                                                                                                                                                                                                                                                                                                                                                                                                                                                                                                                                                                                                                                                                                                                                                                                                                                                                                                                     <p>This dataset contains chemistry from discrete hydrothermal water samples collected by syringe. &nbsp;Dissolved inorganic carbon (DIC), stable carbon isotope ratio (d13C), stable carbon isotope ratio of dissolved inorganic carbon (13C/12C ratio in DIC), alkalinity, chlorinity, the concentration of nitrate plus nitrite, and pH are included in the data. &nbsp;Concentrations of the following elements and compounds are also included;&nbsp;Mo, V, Rb, Cs, U, PO4, silicic acid, Sr, Li, S, Na, Ca, Mg, K, B, Mn, Fe. &nbsp;Latitude, longitude, and date of the Alvin dives that collected these data are also included. Collection occurred during the&nbsp;R/V Atlantis cruise&nbsp;AT26-24.&nbsp;</p>\\r\\n  \n",
      "8  <p>The increase in partial pressure of CO2 (pCO2) is causing ocean acidification, which impacts the<br />\\r\\ngrowth rates and elemental composition of phytoplankton. Here, shifts in growth rates and cell<br />\\r\\nquotas of Thalassiosira weissflogii grown under a variety of different temperatures, irradiances,<br />\\r\\nand pCO2 conditions are discussed. The presented data suggest that acclimatization times of<br />\\r\\nexponentially growing diatoms to environmental perturbations may be weeks to months, rather<br />\\r\\nthan days to weeks. The response of acclimatized T. weissflogii to pCO2 depended on irradiance<br />\\r\\nand temperature and was highly interactive, non-linear, and non-uniform. A very significant<br />\\r\\nnegative effect of pCO2 was observed under growth conditions that were light-, and<br />\\r\\ntemperature-limited; a smaller, but still significant negative response was seen under<br />\\r\\nlight-limiting growth conditions, whereas pCO2 did not affect growth rates of T. weissflogii under<br />\\r\\nlight-saturated growth conditions. Cell quotas of organic carbon, nitrogen, or chlorophyll a were<br />\\r\\nlinked to growth rate. The cell-normalized production of transparent exopolymer particles (TEP)<br />\\r\\nwas positively correlated with POC cell quotas, with some minor impact of irradiance and pCO2<br />\\r\\non the relationship. This correlation of TEP production with carbon cell quotas is consistent with<br />\\r\\nthe hypothesis that extracellular release is an inherent component of cell metabolism. Results<br />\\r\\nsuggest that elevated pCO2 functions as an (additional) metabolic stressor for T. weissflogii and<br />\\r\\nthat the interaction of different stressors determines growth rates and cell characteristics in a<br />\\r\\ncomplex, non-linear relationship.</p>\\r\\n  \n",
      "9  <p>The increase in partial pressure of CO2 (pCO2) is causing ocean acidification, which impacts the<br />\\r\\ngrowth rates and elemental composition of phytoplankton. Here, shifts in growth rates and cell<br />\\r\\nquotas of Thalassiosira weissflogii grown under a variety of different temperatures, irradiances,<br />\\r\\nand pCO2 conditions are discussed. The presented data suggest that acclimatization times of<br />\\r\\nexponentially growing diatoms to environmental perturbations may be weeks to months, rather<br />\\r\\nthan days to weeks. The response of acclimatized T. weissflogii to pCO2 depended on irradiance<br />\\r\\nand temperature and was highly interactive, non-linear, and non-uniform. A very significant<br />\\r\\nnegative effect of pCO2 was observed under growth conditions that were light-, and<br />\\r\\ntemperature-limited; a smaller, but still significant negative response was seen under<br />\\r\\nlight-limiting growth conditions, whereas pCO2 did not affect growth rates of T. weissflogii under<br />\\r\\nlight-saturated growth conditions. Cell quotas of organic carbon, nitrogen, or chlorophyll a were<br />\\r\\nlinked to growth rate. The cell-normalized production of transparent exopolymer particles (TEP)<br />\\r\\nwas positively correlated with POC cell quotas, with some minor impact of irradiance and pCO2<br />\\r\\non the relationship. This correlation of TEP production with carbon cell quotas is consistent with<br />\\r\\nthe hypothesis that extracellular release is an inherent component of cell metabolism. Results<br />\\r\\nsuggest that elevated pCO2 functions as an (additional) metabolic stressor for T. weissflogii and<br />\\r\\nthat the interaction of different stressors determines growth rates and cell characteristics in a<br />\\r\\ncomplex, non-linear relationship.</p>\\r\\n  \n"
     ]
    }
   ],
   "source": [
    "query= \"\"\"prefix schema: <http://schema.org/>\n",
    "prefix sschema: <https://schema.org/>\n",
    "SELECT DISTINCT ?s ?g  (MIN(?disurl) as ?url) (MAX(?score1) as ?score)   ?name ?description\n",
    "WHERE {\n",
    "  ?lit bds:search \"Carbon\" .\n",
    "  ?lit bds:matchAllTerms true.\n",
    "  ?lit bds:relevance ?score1 .\n",
    "  ?s ?p ?lit .\n",
    "\n",
    "  VALUES (?dataset) { ( schema:Dataset ) ( sschema:Dataset ) }\n",
    "  ?s a ?dataset .\n",
    "  ?s schema:name|sschema:name ?name .\n",
    "\n",
    "  graph ?g {\n",
    "  ?s schema:description|sschema:description ?description .\n",
    "  }\n",
    "\n",
    "  OPTIONAL {\n",
    "\t?s schema:distribution|sschema:distribution ?dis .\n",
    "\t?dis schema:contentUrl |sschema:contentUrl  ?disurl .\n",
    "  }\n",
    "\n",
    "}\n",
    "GROUP BY ?s ?g ?name ?description\n",
    "ORDER BY DESC(?score1)\n",
    "LIMIT 10\n",
    "OFFSET 0\n",
    "       \"\"\"\n",
    "ecoresults = get_sparql_dataframe(ecograph, query)\n",
    "\n",
    "print (ecoresults)\n"
   ]
  },
  {
   "cell_type": "markdown",
   "id": "contemporary-endorsement",
   "metadata": {},
   "source": [
    "## Query with parameters\n",
    "\n",
    "The queries in geocodes and geodex are parameterized.\n",
    "Note while python templates usually use \n",
    "$identifier ${identifier} is equivalent to $identifier."
   ]
  },
  {
   "cell_type": "code",
   "execution_count": 10,
   "id": "valued-broadcasting",
   "metadata": {},
   "outputs": [],
   "source": [
    "\n",
    "geocodesFullText = \"\"\"\n",
    "PREFIX rdf: <http://www.w3.org/1999/02/22-rdf-syntax-ns#>\n",
    "PREFIX rdfs: <http://www.w3.org/2000/01/rdf-schema#>\n",
    "prefix schema: <http://schema.org/>\n",
    "prefix sschema: <https://schema.org/>\n",
    "SELECT distinct ?subj ?g ?resourceType ?name ?description  ?pubname (GROUP_CONCAT(DISTINCT ?placename; SEPARATOR=\", \") AS ?placenames)\n",
    "        (GROUP_CONCAT(DISTINCT ?kwu; SEPARATOR=\", \") AS ?kw)\n",
    "        ?datep  (GROUP_CONCAT(DISTINCT ?url; SEPARATOR=\", \") AS ?disurl) (MAX(?score1) as ?score)\n",
    "\n",
    "        WHERE {\n",
    "            ?lit bds:search \"${q}\" .\n",
    "            ?lit bds:matchAllTerms ${exact} .\n",
    "            ?lit bds:relevance ?score1 .\n",
    "            ?subj ?p ?lit .\n",
    "            BIND (IF (exists {?subj a schema:Dataset .} ||exists{?subj a sschema:Dataset .} , \"data\", \"tool\") AS ?resourceType).\n",
    "            filter( ?score1 > 0.04).\n",
    "          graph ?g {\n",
    "            Minus {?subj a sschema:ResearchProject } .\n",
    "            Minus {?subj a schema:ResearchProject } .\n",
    "            Minus {?subj a sschema:PropertyValue } .\n",
    "            Minus {?subj a schema:PropertyValue } .\n",
    "            Minus {?subj a schema:Person } .\n",
    "            Minus {?subj a sschema:Person } .\n",
    "             ?subj schema:name|sschema:name ?name .\n",
    "                       ?subj schema:description|sschema:description ?description .\n",
    "             }\n",
    "            optional {?subj schema:distribution/schema:url|schema:subjectOf/schema:url ?url .}\n",
    "            OPTIONAL {?subj schema:datePublished|sschema:datePublished ?date_p .}\n",
    "            OPTIONAL {?subj schema:publisher/schema:name|sschema:publisher/sschema:name ?pub_name .}\n",
    "            OPTIONAL {?subj schema:spatialCoverage/schema:name|sschema:spatialCoverage/sschema:name|sschema:sdPublisher ?place_name .}\n",
    "            OPTIONAL {?subj schema:keywords|sschema:keywords ?kwu .}\n",
    "            BIND ( IF ( BOUND(?date_p), ?date_p, \"No datePublished\") as ?datep ) .\n",
    "            BIND ( IF ( BOUND(?pub_name), ?pub_name, \"No Publisher\") as ?pubname ) .\n",
    "            BIND ( IF ( BOUND(?place_name), ?place_name, \"No spatialCoverage\") as ?placename ) .\n",
    "        }\n",
    "        GROUP BY ?subj ?pubname ?placenames ?kw ?datep ?disurl ?score ?name ?description  ?resourceType ?g\n",
    "        ORDER BY DESC(?score)\n",
    "LIMIT ${n}\n",
    "OFFSET ${o}\n",
    "\"\"\"\n",
    "geocodesFullTextTemplate = Template(geocodesFullText)"
   ]
  },
  {
   "cell_type": "code",
   "execution_count": 11,
   "outputs": [
    {
     "name": "stdout",
     "output_type": "stream",
     "text": [
      "                                subj  \\\n",
      "0  https://doi.org/10.7283/HZN1-5910   \n",
      "1  https://doi.org/10.7283/YJK0-B215   \n",
      "2  https://doi.org/10.7283/N74Q-GA66   \n",
      "3  https://doi.org/10.7283/5ASB-9V26   \n",
      "4  https://doi.org/10.7283/5X1E-CR48   \n",
      "\n",
      "                                                                    g  \\\n",
      "0  urn:gleaner:milled:unavco:5a0d55f5508ec2df891080bd878ad6ab88d867e3   \n",
      "1  urn:gleaner:milled:unavco:032b4fbec6a37f19e09fc53b2c2bfba2b0e7630c   \n",
      "2  urn:gleaner:milled:unavco:3c0ce6847d2045f44a0cf1edecbf7c2b8af29052   \n",
      "3  urn:gleaner:milled:unavco:bf04e37ec94c5c295f1ada82c2fb70d5644b41fa   \n",
      "4  urn:gleaner:milled:unavco:5cc1edda4117afe4f1e51d4db4e075677f2ee31c   \n",
      "\n",
      "  resourceType name  \\\n",
      "0         data        \n",
      "1         data        \n",
      "2         data        \n",
      "3         data        \n",
      "4         data        \n",
      "\n",
      "                                                                                    description  \\\n",
      "0  GPS/GNSS stations: Long-term continuous or semi-continuous occupations at multiple locations   \n",
      "1                               GPS/GNSS campaign: Short-term occupations at multiple locations   \n",
      "2                               GPS/GNSS campaign: Short-term occupations at multiple locations   \n",
      "3                               GPS/GNSS campaign: Short-term occupations at multiple locations   \n",
      "4                               GPS/GNSS campaign: Short-term occupations at multiple locations   \n",
      "\n",
      "        pubname          placenames kw             datep disurl  \\\n",
      "0  UNAVCO, Inc.  No spatialCoverage     No datePublished          \n",
      "1  UNAVCO, Inc.  No spatialCoverage     No datePublished          \n",
      "2  UNAVCO, Inc.  No spatialCoverage     No datePublished          \n",
      "3  UNAVCO, Inc.  No spatialCoverage     No datePublished          \n",
      "4  UNAVCO, Inc.  No spatialCoverage     No datePublished          \n",
      "\n",
      "                 score  \n",
      "0  0.22097086912079608  \n",
      "1  0.22097086912079608  \n",
      "2  0.22097086912079608  \n",
      "3  0.22097086912079608  \n",
      "4  0.17677669529663687  \n"
     ]
    }
   ],
   "source": [
    "q = 'Ridgecrest Earthquake'\n",
    "exact = True # match all terms\n",
    "o = 0 # start\n",
    "n = 10 # limit number of results to 10\n",
    "\n",
    "ridgecrest_query = geocodesFullTextTemplate.substitute(q=q,exact=exact,n=10,o=0)\n",
    "\n",
    "ridgecrestresults = get_sparql_dataframe(ecograph, ridgecrest_query)\n",
    "print(ridgecrestresults)"
   ],
   "metadata": {
    "collapsed": false,
    "pycharm": {
     "name": "#%%\n"
    }
   }
  },
  {
   "cell_type": "markdown",
   "id": "graduate-reliance",
   "metadata": {
    "pycharm": {
     "name": "#%% md\n"
    }
   },
   "source": [
    "Selecting resources\n",
    "\n",
    "```SPARQL\n",
    "PREFIX schema:  <https://schema.org/>\n",
    "PREFIX schemaold:  <http://schema.org/>\n",
    "select DISTINCT ?rrs ?name ?curl ?landingPage\n",
    "WHERE                    {\n",
    "    graph <${g}>\n",
    "      {\n",
    "        {\n",
    "          ?s schemaold:distribution|schema:distribution ?dist .\n",
    "          ?dist  schemaold:encodingFormat|schema:encodingFormat ?type .\n",
    "          ?dist schemaold:contentUrl|schema:contentUrl|schema:url|schemaold:url ?curl\n",
    "        }\n",
    "        UNION {\n",
    "          VALUES (?dataset) { ( schema:Dataset ) ( schemaold:Dataset ) }\n",
    "          ?s a ?dataset .\n",
    "          ?s  schemaold:encodingFormat|schema:encodingFormat ?type .\n",
    "          }\n",
    "     }\n",
    "     BIND (str(?type) as ?label)\n",
    "     SERVICE <http://132.249.238.169:8080/fuseki/ecrr/query> {\n",
    "      GRAPH <http://earthcube.org/gleaner-summoned>\n",
    "       {\n",
    "          ?rrs schema:supportingData ?df.\n",
    "              ?df schema:encodingFormat  ?label ;\n",
    "                  schema:position \"input\".\n",
    "              ?rrs schema:name ?name.\n",
    "               ?rrs schema:subjectOf/schema:url ?landingPage\n",
    "       }\n",
    "   }\n",
    "}\n",
    "````"
   ]
  },
  {
   "cell_type": "code",
   "execution_count": 56,
   "outputs": [],
   "source": [
    "getDownloadsQueryString = \"\"\"PREFIX schema:  <https://schema.org/>\n",
    "PREFIX schemaold:  <http://schema.org/>\n",
    "select DISTINCT ?rrs ?name ?curl ?landingPage\n",
    "WHERE                    {\n",
    "    graph <${g}>\n",
    "      {\n",
    "        {\n",
    "          ?s schemaold:distribution|schema:distribution ?dist .\n",
    "          ?dist  schemaold:encodingFormat|schema:encodingFormat ?type .\n",
    "          ?dist schemaold:contentUrl|schema:contentUrl|schema:url|schemaold:url ?curl\n",
    "        }\n",
    "        UNION {\n",
    "          VALUES (?dataset) { ( schema:Dataset ) ( schemaold:Dataset ) }\n",
    "          ?s a ?dataset .\n",
    "          ?s  schemaold:encodingFormat|schema:encodingFormat ?type .\n",
    "          }\n",
    "     }\n",
    "     BIND (str(?type) as ?label)\n",
    "     SERVICE <http://132.249.238.169:8080/fuseki/ecrr/query> {\n",
    "      GRAPH <http://earthcube.org/gleaner-summoned>\n",
    "       {\n",
    "          ?rrs schema:supportingData ?df.\n",
    "              ?df schema:encodingFormat  ?label ;\n",
    "                  schema:position \"input\".\n",
    "              ?rrs schema:name ?name.\n",
    "               ?rrs schema:subjectOf/schema:url ?landingPage\n",
    "       }\n",
    "   }\n",
    "}\n",
    "\"\"\"\n",
    "getDownloadsTemplate = Template(getDownloadsQueryString)\n",
    "\n",
    "# this will not work for now.\n",
    "# returns boolean, no vars, so error in sqarql parse\n",
    "hasDownloadsQueryString = \"\"\"PREFIX sdo:  <https://schema.org/>\n",
    "\n",
    "ASK\n",
    "WHERE\n",
    "{\n",
    "  graph <urn:gleaner:milled:ocd:917529917c29eae1fcab0618f8f85f5587c771bb> {\n",
    "\n",
    "   ?s  <https://schema.org/additionType> ?type .\n",
    "\t}\n",
    "\t  BIND (str(?type) as ?label)\n",
    "   SERVICE <http://132.249.238.169:8080/fuseki/ecrr/query> {\n",
    "\t   GRAPH <http://earthcube.org/gleaner-summoned>\n",
    "\t   {\n",
    "\t\t ?rrs sdo:supportingData/sdo:encodingFormat  ?label .\n",
    "\t\t ?rrs sdo:name ?rrname.\n",
    "\t\t}\n",
    "\t}\n",
    " }\n",
    "\"\"\"\n",
    "\n",
    "hasDownloadsTemplate = Template(hasDownloadsQueryString)"
   ],
   "metadata": {
    "collapsed": false,
    "pycharm": {
     "name": "#%%\n"
    }
   }
  },
  {
   "cell_type": "code",
   "execution_count": 57,
   "id": "limited-queensland",
   "metadata": {},
   "outputs": [
    {
     "ename": "KeyError",
     "evalue": "'vars'",
     "output_type": "error",
     "traceback": [
      "\u001B[0;31m---------------------------------------------------------------------------\u001B[0m",
      "\u001B[0;31mKeyError\u001B[0m                                  Traceback (most recent call last)",
      "\u001B[0;32m<ipython-input-57-8f565780b48a>\u001B[0m in \u001B[0;36m<module>\u001B[0;34m\u001B[0m\n\u001B[1;32m      3\u001B[0m \u001B[0;34m\u001B[0m\u001B[0m\n\u001B[1;32m      4\u001B[0m \u001B[0mhasDownloadsQuery\u001B[0m \u001B[0;34m=\u001B[0m \u001B[0mhasDownloadsTemplate\u001B[0m\u001B[0;34m.\u001B[0m\u001B[0msubstitute\u001B[0m\u001B[0;34m(\u001B[0m\u001B[0mg\u001B[0m\u001B[0;34m=\u001B[0m\u001B[0mo\u001B[0m\u001B[0;34m)\u001B[0m\u001B[0;34m\u001B[0m\u001B[0;34m\u001B[0m\u001B[0m\n\u001B[0;32m----> 5\u001B[0;31m \u001B[0mhasToolsResult\u001B[0m \u001B[0;34m=\u001B[0m \u001B[0mget_sparql_dataframe\u001B[0m\u001B[0;34m(\u001B[0m\u001B[0mecograph\u001B[0m\u001B[0;34m,\u001B[0m \u001B[0mhasDownloadsQuery\u001B[0m\u001B[0;34m)\u001B[0m\u001B[0;34m\u001B[0m\u001B[0;34m\u001B[0m\u001B[0m\n\u001B[0m\u001B[1;32m      6\u001B[0m \u001B[0;34m\u001B[0m\u001B[0m\n\u001B[1;32m      7\u001B[0m \u001B[0mgetDownloadsQuery\u001B[0m \u001B[0;34m=\u001B[0m \u001B[0mgetDownloadsTemplate\u001B[0m\u001B[0;34m.\u001B[0m\u001B[0msubstitute\u001B[0m\u001B[0;34m(\u001B[0m\u001B[0mg\u001B[0m\u001B[0;34m=\u001B[0m\u001B[0mo\u001B[0m\u001B[0;34m)\u001B[0m\u001B[0;34m\u001B[0m\u001B[0;34m\u001B[0m\u001B[0m\n",
      "\u001B[0;32m<ipython-input-5-fe6bda39f091>\u001B[0m in \u001B[0;36mget_sparql_dataframe\u001B[0;34m(service, query)\u001B[0m\n\u001B[1;32m     10\u001B[0m \u001B[0;34m\u001B[0m\u001B[0m\n\u001B[1;32m     11\u001B[0m     \u001B[0mprocessed_results\u001B[0m \u001B[0;34m=\u001B[0m \u001B[0mjson\u001B[0m\u001B[0;34m.\u001B[0m\u001B[0mload\u001B[0m\u001B[0;34m(\u001B[0m\u001B[0mresult\u001B[0m\u001B[0;34m.\u001B[0m\u001B[0mresponse\u001B[0m\u001B[0;34m)\u001B[0m\u001B[0;34m\u001B[0m\u001B[0;34m\u001B[0m\u001B[0m\n\u001B[0;32m---> 12\u001B[0;31m     \u001B[0mcols\u001B[0m \u001B[0;34m=\u001B[0m \u001B[0mprocessed_results\u001B[0m\u001B[0;34m[\u001B[0m\u001B[0;34m'head'\u001B[0m\u001B[0;34m]\u001B[0m\u001B[0;34m[\u001B[0m\u001B[0;34m'vars'\u001B[0m\u001B[0;34m]\u001B[0m\u001B[0;34m\u001B[0m\u001B[0;34m\u001B[0m\u001B[0m\n\u001B[0m\u001B[1;32m     13\u001B[0m \u001B[0;34m\u001B[0m\u001B[0m\n\u001B[1;32m     14\u001B[0m     \u001B[0mout\u001B[0m \u001B[0;34m=\u001B[0m \u001B[0;34m[\u001B[0m\u001B[0;34m]\u001B[0m\u001B[0;34m\u001B[0m\u001B[0;34m\u001B[0m\u001B[0m\n",
      "\u001B[0;31mKeyError\u001B[0m: 'vars'"
     ]
    }
   ],
   "source": [
    "# known working uri\n",
    "o = 'urn:gleaner:milled:magic:c164daaca4ae58122d76ec48ecae1c1c45819fcf'\n",
    "\n",
    "# hasDownloadsQuery = hasDownloadsTemplate.substitute(g=o)\n",
    "# hasToolsResult = get_sparql_dataframe(ecograph, hasDownloadsQuery)\n",
    "\n",
    "getDownloadsQuery = getDownloadsTemplate.substitute(g=o)\n",
    "itemresults = get_sparql_dataframe(ecograph, getDownloadsQuery)"
   ]
  },
  {
   "cell_type": "markdown",
   "id": "signal-welding",
   "metadata": {
    "pycharm": {
     "name": "#%% md\n"
    }
   },
   "source": [
    "batching a set of tools\n",
    "Get a list of tools for a set of results.\n",
    "\n",
    "hasTools not working. Returns a boolean. breaks some part of sparql stack.\n"
   ]
  },
  {
   "cell_type": "code",
   "execution_count": 49,
   "outputs": [],
   "source": [
    "# def hasTools( g):\n",
    "#     hasDownloadsQuery = hasDownloadsTemplate.substitute(g=g)\n",
    "#     return get_sparql_dataframe(ecograph, hasDownloadsQuery)\n",
    "def addTools( g):\n",
    "    getDownloadsQuery = getDownloadsTemplate.substitute(g=g)\n",
    "    return get_sparql_dataframe(ecograph, getDownloadsQuery)"
   ],
   "metadata": {
    "collapsed": false,
    "pycharm": {
     "name": "#%%\n"
    }
   }
  },
  {
   "cell_type": "code",
   "execution_count": 50,
   "id": "third-hospital",
   "metadata": {
    "pycharm": {
     "name": "#%%\n"
    }
   },
   "outputs": [],
   "source": [
    "# has\n",
    "# ridgecrestresults['hastools'] =ridgecrestresults['g'].apply(lambda g: hasTools( g))\n",
    "ridgecrestresults['tools'] = ridgecrestresults['g'].apply(lambda g: addTools( g))\n"
   ]
  }
 ],
 "metadata": {
  "kernelspec": {
   "display_name": "Python 3",
   "language": "python",
   "name": "python3"
  },
  "language_info": {
   "codemirror_mode": {
    "name": "ipython",
    "version": 3
   },
   "file_extension": ".py",
   "mimetype": "text/x-python",
   "name": "python",
   "nbconvert_exporter": "python",
   "pygments_lexer": "ipython3",
   "version": "3.8.6"
  }
 },
 "nbformat": 4,
 "nbformat_minor": 5
}