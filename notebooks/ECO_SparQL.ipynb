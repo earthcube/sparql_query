{
 "cells": [
  {
   "cell_type": "markdown",
   "id": "sixth-prince",
   "metadata": {
    "id": "GXzeuoO2zHt_"
   },
   "source": [
    "# EarthCube SPARQL Queries\n",
    "\n",
    "## About\n",
    "\n",
    "This is the start of learning a bit about the SPARQL to access the\n",
    "EarthCube graph store.\n",
    "\n",
    "\n",
    "\n",
    "## References\n",
    "\n"
   ]
  },
  {
   "cell_type": "markdown",
   "id": "reliable-essence",
   "metadata": {
    "id": "XWFreoui0eMJ"
   },
   "source": [
    "## Installs"
   ]
  },
  {
   "cell_type": "code",
   "execution_count": 1,
   "id": "actual-situation",
   "metadata": {
    "colab": {
     "base_uri": "https://localhost:8080/",
     "height": 185
    },
    "id": "YvgJU6970gfJ",
    "outputId": "6d2e22c6-9b27-4162-80e9-7390e21ac72c"
   },
   "outputs": [
    {
     "name": "stdout",
     "output_type": "stream",
     "text": [
      "\u001B[31mERROR: pip's dependency resolver does not currently take into account all the packages that are installed. This behaviour is the source of the following dependency conflicts.\r\n",
      "boto3 1.17.41 requires botocore<1.21.0,>=1.20.41, but you have botocore 1.19.52 which is incompatible.\u001B[0m\r\n",
      "\u001B[31mERROR: pip's dependency resolver does not currently take into account all the packages that are installed. This behaviour is the source of the following dependency conflicts.\r\n",
      "aiobotocore 1.2.2 requires botocore<1.19.53,>=1.19.52, but you have botocore 1.20.41 which is incompatible.\u001B[0m\r\n"
     ]
    }
   ],
   "source": [
    "!pip -q install mimesis\n",
    "!pip -q install minio \n",
    "!pip -q install s3fs\n",
    "!pip -q install SPARQLWrapper\n",
    "!pip -q install boto3\n",
    "!pip -q install 'fsspec>=0.3.3'\n",
    "!pip -q install rdflib\n",
    "!pip -q install rdflib-jsonld\n",
    "!pip -q install PyLD==2.0.2"
   ]
  },
  {
   "cell_type": "markdown",
   "id": "regular-latex",
   "metadata": {
    "id": "B5cajEkMzsp6"
   },
   "source": [
    "## Imports\n"
   ]
  },
  {
   "cell_type": "code",
   "execution_count": 1,
   "id": "overhead-science",
   "metadata": {
    "id": "hoCJfO4s0BF_"
   },
   "outputs": [],
   "source": [
    "import dask, boto3\n",
    "import dask.dataframe as dd\n",
    "import pandas as pd\n",
    "import json\n",
    "from string import Template\n",
    "\n",
    "from SPARQLWrapper import SPARQLWrapper, JSON\n",
    "\n",
    "sweet = \"http://cor.esipfed.org/sparql\"\n",
    "dbsparql = \"http://dbpedia.org/sparql\"\n",
    "ufokn = \"http://graph.ufokn.org/blazegraph/namespace/ufokn-dev/sparql\"\n",
    "ecograph = \"https://graph.geodex.org/blazegraph/namespace/nabu/sparql\""
   ]
  },
  {
   "cell_type": "markdown",
   "id": "balanced-question",
   "metadata": {
    "id": "9dwMsNlX0FIv"
   },
   "source": [
    "## Code inits"
   ]
  },
  {
   "cell_type": "markdown",
   "id": "polar-undergraduate",
   "metadata": {
    "id": "VPCguN7dQnVz"
   },
   "source": [
    "### Helper function(s)\n",
    "The following block is a SPARQL to Pandas feature.  You may need to run it to load the function per standard notebook actions."
   ]
  },
  {
   "cell_type": "code",
   "execution_count": 2,
   "id": "naval-tournament",
   "metadata": {
    "id": "KlU0kr2R00i_"
   },
   "outputs": [],
   "source": [
    "#@title\n",
    "def get_sparql_dataframe(service, query):\n",
    "    \"\"\"\n",
    "    Helper function to convert SPARQL results into a Pandas data frame.\n",
    "    \"\"\"\n",
    "    sparql = SPARQLWrapper(service)\n",
    "    sparql.setQuery(query)\n",
    "    sparql.setReturnFormat(JSON)\n",
    "    result = sparql.query()\n",
    "\n",
    "    processed_results = json.load(result.response)\n",
    "    cols = processed_results['head']['vars']\n",
    "\n",
    "    out = []\n",
    "    for row in processed_results['results']['bindings']:\n",
    "        item = []\n",
    "        for c in cols:\n",
    "            item.append(row.get(c, {}).get('value'))\n",
    "        out.append(item)\n",
    "\n",
    "    return pd.DataFrame(out, columns=cols)"
   ]
  },
  {
   "cell_type": "markdown",
   "id": "recorded-triumph",
   "metadata": {
    "id": "gF-jNcIplO3X"
   },
   "source": [
    "### Set up some Pandas Dataframe options"
   ]
  },
  {
   "cell_type": "code",
   "execution_count": 3,
   "id": "explicit-excitement",
   "metadata": {
    "colab": {
     "base_uri": "https://localhost:8080/",
     "height": 74
    },
    "id": "Nkiij1wElRrf",
    "outputId": "0f8a88aa-3c71-49f4-98a4-e58396f15412"
   },
   "outputs": [],
   "source": [
    "pd.set_option('display.max_rows', None)\n",
    "pd.set_option('display.max_columns', None)\n",
    "pd.set_option('display.width', None)\n",
    "pd.set_option('display.max_colwidth', None)"
   ]
  },
  {
   "cell_type": "markdown",
   "id": "favorite-suggestion",
   "metadata": {
    "id": "90tBuePF6NCf"
   },
   "source": [
    "### Set up the connection to the object store to access the graph objects from\n"
   ]
  },
  {
   "cell_type": "markdown",
   "id": "terminal-protocol",
   "metadata": {},
   "source": [
    "Basic Query\n",
    "\n",
    "```SPARQL\n",
    "prefix schema: <http://schema.org/>\n",
    "prefix sschema: <https://schema.org/>\n",
    "SELECT DISTINCT ?s ?g  (MIN(?disurl) as ?url) (MAX(?score1) as ?score)   ?name ?description\n",
    "WHERE {\n",
    "  ?lit bds:search \"${q}\" .\n",
    "  ?lit bds:matchAllTerms ${exact} .\n",
    "  ?lit bds:relevance ?score1 .\n",
    "  ?s ?p ?lit .\n",
    "\n",
    "  VALUES (?dataset) { ( schema:Dataset ) ( sschema:Dataset ) }\n",
    "  ?s a ?dataset .\n",
    "  ?s schema:name|sschema:name ?name .\n",
    "\n",
    "  graph ?g {\n",
    "  ?s schema:description|sschema:description ?description .\n",
    "  }\n",
    "\n",
    "  OPTIONAL {\n",
    "\t?s schema:distribution|sschema:distribution ?dis .\n",
    "\t?dis schema:contentUrl |sschema:contentUrl  ?disurl .\n",
    "  }\n",
    "\n",
    "}\n",
    "GROUP BY ?s ?g ?name ?description\n",
    "ORDER BY DESC(?score1)\n",
    "LIMIT ${n}\n",
    "OFFSET ${o}\n",
    "```"
   ]
  },
  {
   "cell_type": "markdown",
   "source": [
    "10 results for  for Carbon"
   ],
   "metadata": {
    "collapsed": false,
    "pycharm": {
     "name": "#%% md\n"
    }
   }
  },
  {
   "cell_type": "code",
   "execution_count": 7,
   "id": "filled-shakespeare",
   "metadata": {},
   "outputs": [
    {
     "name": "stdout",
     "output_type": "stream",
     "text": [
      "                                        s  \\\n",
      "0  https://www.bco-dmo.org/dataset/827587   \n",
      "1  https://www.bco-dmo.org/dataset/788911   \n",
      "2  https://www.bco-dmo.org/dataset/732625   \n",
      "3  https://www.bco-dmo.org/dataset/764780   \n",
      "4  https://www.bco-dmo.org/dataset/731187   \n",
      "5  https://www.bco-dmo.org/dataset/723868   \n",
      "6  https://www.bco-dmo.org/dataset/812882   \n",
      "7  https://www.bco-dmo.org/dataset/784673   \n",
      "8    https://www.bco-dmo.org/dataset/2374   \n",
      "9  https://www.bco-dmo.org/dataset/732438   \n",
      "\n",
      "                                                                    g  \\\n",
      "0  urn:gleaner:milled:bcodmo:022d52580d29ea7923e54eba32b1e7b114ec5297   \n",
      "1  urn:gleaner:milled:bcodmo:032e1d127760b26609d09a326136af114395d4c0   \n",
      "2  urn:gleaner:milled:bcodmo:11bf47a236d79bd880366c6786c8964e508df26e   \n",
      "3  urn:gleaner:milled:bcodmo:1a8a23e6caf272dd5497223621fef96e67722664   \n",
      "4  urn:gleaner:milled:bcodmo:1efbc7eea5499802c33c22e69923d6b25b771839   \n",
      "5  urn:gleaner:milled:bcodmo:1f74bc09441727c78f3caffc71822821fab6d1a6   \n",
      "6  urn:gleaner:milled:bcodmo:1fa7c6c7abf185a4f0488de39c0779e7ec770771   \n",
      "7  urn:gleaner:milled:bcodmo:2d8961b8ab679110d6c88861d7eb0281408994b1   \n",
      "8  urn:gleaner:milled:bcodmo:2db9ec69b0d2f8184a88ff06ff81b9a58e61ade2   \n",
      "9  urn:gleaner:milled:bcodmo:388454fa30aa9e5a8bc3a9c146f0518c9ce7ae57   \n",
      "\n",
      "                                                                                                                                           url  \\\n",
      "0                                      https://darchive.mblwhoilibrary.org/bitstream/1912/26437/1/dataset-827587_coral-stable-isotopes__v1.tsv   \n",
      "1  https://darchive.mblwhoilibrary.org/bitstream/1912/25931/1/dataset-788911_incubations-cell-abundance-carbon-fixation-rates-nitrates__v1.tsv   \n",
      "2                        https://darchive.mblwhoilibrary.org/bitstream/1912/24184/1/dataset-732625_ulva-photosynthesis-and-respiration__v1.tsv   \n",
      "3                                https://darchive.mblwhoilibrary.org/bitstream/1912/24000/1/dataset-764780_partitioncoefficientsforcoc__v1.tsv   \n",
      "4                          https://darchive.mblwhoilibrary.org/bitstream/1912/24190/1/dataset-731187_plocamium-chn-and-stable-isotopes__v1.tsv   \n",
      "5                                      https://darchive.mblwhoilibrary.org/bitstream/1912/24292/1/dataset-723868_crane-fdom-doc-and-tp__v1.tsv   \n",
      "6                        https://darchive.mblwhoilibrary.org/bitstream/1912/25859/1/dataset-812882_srednick-et-al-2020-lo-methods-pco2__v1.tsv   \n",
      "7                                         https://darchive.mblwhoilibrary.org/bitstream/1912/25033/1/dataset-784673_carbonatechemistry__v1.tsv   \n",
      "8                                                       https://darchive.mblwhoilibrary.org/bitstream/1912/23776/1/dataset-2374_pocpon__v1.tsv   \n",
      "9                                                   https://darchive.mblwhoilibrary.org/bitstream/1912/24201/1/dataset-732438_ulva-chl__v1.tsv   \n",
      "\n",
      "       score  \\\n",
      "0      0.375   \n",
      "1      0.375   \n",
      "2     0.0625   \n",
      "3     0.0625   \n",
      "4       0.25   \n",
      "5       0.25   \n",
      "6     0.1875   \n",
      "7  0.0390625   \n",
      "8     0.1875   \n",
      "9     0.0625   \n",
      "\n",
      "                                                                                                                                                                                                                  name  \\\n",
      "0                                                                                                                        Carbon and nitrogen stable isotopes of Hawaiian corals collected from August to November 2015   \n",
      "1  Microbial cell abundance,carbon fixation rates, and nitrate concentrations during shipboard incubations of vent fluids at the diffuse-flow vent Crab Spa, East Pacific Rise on RV/Atlantis cruise AT37-12, May 2017   \n",
      "2                                                                                 Rates of photosynthesis and respiration by Ulva exposed to different average and variability of pCO2 (Seaweed OA Resilience project)   \n",
      "3                                                                     Partition coefficients of the radionuclide into colloidal organic matter from seawater of the west Pacific Ocean and the northern Gulf of Mexico   \n",
      "4                                                                                                           Plocamium carbon and nitrogen content and stable isotope values, 2014-2015 (Seaweed OA Resilience project)   \n",
      "5                               Concentrations of colored dissolved organic matter, dissolved organic carbon, and total phosphorous from experiments conducted at the University of Hawaii, Manoa in 2015 (Coral DOM2)   \n",
      "6          Partial pressure of carbon dioxide (pCO2) from in-situ flume experiments to manipulate pCO2 on shallow tropical coral reef communities at UCB Gump Research Station Moorea, French Polynesia in May of 2018   \n",
      "7                                                                                       Carbonate chemistry effects from Hurricane Harvey in San Antonio Bay and Mission Aransas Estuary from 2017-02-22 to 2018-11-15   \n",
      "8                                         Particulate Organic Carbon and Nitrogen from RVIB Nathaniel B. Palmer cruises NBP0103, NBP0104, NBP0202, and NBP0204 in the Southern Ocean from 2001-2002 (SOGLOBEC project)   \n",
      "9                                                                                             Chlorophyll a per unit biomass in Ulva lactuca under ocean acidification (OA) conditions (Seaweed OA Resilience project)   \n",
      "\n",
      "                                                                                                                                                                                                                                                                                                                                                                                                                                                                                                                                                                                                                                                                                                                                                                                                                                                                                                                                                                                                                                                                                                                                                                                                                                                                                                                                                                                                                                                                                                                                                                                                                                                                                                                                                                                                                                                                                                                                                                                                                                                                                                                                                                                                                                                                                                                                                                                                                                                                                                                                                                                                   description  \n",
      "0                                                                                                                                                                                                                                                                                                                                                                                                                                                                                                                                                                                                                                                                                                                                                                                                                                                                                                                                                                                                                                                                                                                                                                                                                                                                                                                                                                                                                                                                                                                                                                                                                                                                                                                                                                                                                                                                                                                                                                                                                                                                                                                                                                                                                                                                                                                                                                                                                                                                                                                                                       Carbon and nitrogen stable isotopes of Hawaiian corals  \n",
      "1                                                                                                                                                                                                                                                                                                                                                                                                                                                                                                                                                                                                                                                                                                                                                                                                                                                                                                                                                                                                                                                                                                                                                                                                                                                                                                                                                                                                                                                                                                                                                                                                                                                                                                                                                                                                                                                                                                                                                                                                                                                                                                                                                                                                                                 <p>This dataset includes microbial cell abundance, carbon fixation rates, and nitrate concentrations during shipboard incubations of vent fluids at the diffuse-flow vent Crab Spa site, East Pacific Rise in the Eastern Tropical North Pacific (ETNP) on RV/Atlantis cruise AT37-12, May 2017.&nbsp;Crab Spa is&nbsp;at 9.8398N, 104.2913W, and depth 2503 meters.</p>\\r\\n  \n",
      "2                                                                                                                                                                                                                                                                                                                                                                                                                                                                                                                                                                                                                                                                                                                                                                                                                                                                             <p>This dataset includes rates of photosynthesis and respiration by Ulva during culture experiments grown at 15 degrees C under various pCO2 levels, during May through July 2015.</p>\\r\\n\\r\\n<p><strong>Related Datasets:</strong><br />\\r\\n<a href=\"https://www.bco-dmo.org/dataset/732177\">Ulva: Carbonate chemistry pCO2</a>: Carbonate chemistry of Ulva lactuca culture pots testing the effects of pCO2 variability (Seaweed OA Resilience project)<br />\\r\\n<a href=\"https://www.bco-dmo.org/dataset/732438\">Ulva: Chl a</a>: Chlorophyll a per unit biomass in Ulva lactuca under ocean acidification (OA) conditions (Seaweed OA Resilience project)<br />\\r\\n<a href=\"https://www.bco-dmo.org/dataset/732564\">Ulva: CHN and stable isotopes</a>: Stable isotope ratios and mass of carbon and nitrogen in Ulva cells under ocean acidification conditions (Seaweed OA Resilience project)<br />\\r\\n<a href=\"https://www.bco-dmo.org/dataset/732600\">Ulva: Growth</a>: Growth rates of Ulva exposed to different average and variability of pCO2 (Seaweed OA Resilience project)<br />\\r\\n<a href=\"https://www.bco-dmo.org/dataset/732493\">Ulva: pH and temperature time-series</a>: Time-series at 10 minute sampling interval of pH and temperature in Ulva culture pots (Seaweed OA Resilience project)<br />\\r\\n<a href=\"https://www.bco-dmo.org/dataset/732464\">Ulva: pH Drift</a>: Carbonate chemistry over a time course with Ulva in pH drift experiments (Seaweed OA Resilience project)<br />\\r\\n<a href=\"https://www.bco-dmo.org/dataset/732587\">Ulva: seawater delta13C</a>: Stable isotope ratio and concentration of carbon in seawater from Ulva OA experiments (Seaweed OA Resilience project)</p>\\r\\n  \n",
      "3  <p>Partition coefficients of the radionuclide into colloidal organic matter.&nbsp;To study the binding mechanisms of radionuclides to organic moieties in colloidal organic matter (COM),marine colloids (1 kDaâ0.2 Î¼m) were isolated by cross-flow ultrafiltration from seawater of the west Pacific Ocean and the northern Gulf of Mexico. For the same purpose, exopolymeric substances (EPS) produced by laboratory cultured diatoms were collected as well. In our study areas, colloidal organic carbon (COC) concentrations ranged from 6.5 to 202 Î¼g-C/L in the Pacific Ocean, and were 808 Î¼g-C/L in the Gulf of Mexico. The COM compositions (organic carbon, organic nitrogen, proteins, total hydrolysable amino acids, total polysaccharides, uronic acids, hydroxamate siderophores, hydroquinone) were quantified to examine the relationships between partition coefficients (Kc) of five different radionuclides, 234Th, 233Pa, 210Pb, 210Po and 7Be, and concentration ratios to COC of individual chelating biomolecules that could potentially act as a chelating moiety. The range of partition coefficients (Kc, reported as logKc) of radionuclides between water and the different colloidal materials was 5.12 to 5.85 for 234Th, 5.19 to 6.01 for 233Pa, 4.21 to 4.85 for 210Pb, 4.87 to 5.68 for 210Po, and 4.49 to 4.92 for 7Be, similar to values previously reported for lab and field determinations under different particle concentrations. While any relationship obtained between Kc and abundance of specific moieties could not be taken as proving the existence of colloidal organic binding ligands for the different radionuclides, it could suggest possible organic moieties involved in the scavenging of these natural radionuclides. Together with results from isoelectric focusing of radiolabeled COM, we conclude that binding to different biomolecules is nuclide-specific, with colloidal hydroxamate siderophoric moieties being important for the binding of Th and Pa radionuclides. Hydroquinones/ quinone (HQ/Q) facilitated redox and chelation reactions seem to be involved in the binding of Pa and Be. However, the actual mechanisms are not clear. Individual amino acids, proteins, total polysaccharides and uronic acids did not yield significant relationships with logKc values of the different radionuclides. Nonetheless, our results provide new insights into the relative importance of different potential ligand moieties in COM in the binding and possible scavenging of specific radionuclides in the ocean.</p>\\r\\n  \n",
      "4                                                                                                                                                                                                                                                                                                                                                                                    <p>This dataset includes carbon and nitrogen content and stable isotope values from <em>Plocamium cartilagineum</em> tissue grown under various temperatures and CO2 levels, from July 2014 to February 2015.</p>\\r\\n\\r\\n<p><strong>Related Datasets:</strong><br />\\r\\n<a href=\"https://www.bco-dmo.org/dataset/726664\">Plocamium culture carbonate chemistry</a>: Carbonate chemistry in experimental cultures of Plocamium cartilagineum cultured at different temperatures and pCO2 levels (Seaweed OA Resilience project)</p>\\r\\n\\r\\n<p><a href=\"https://www.bco-dmo.org/dataset/731237\">Plocamium culture: seawater delta13C</a>: Stable isotope ratio and concentration of carbon in seawater during Plocamium culture experiments, 2014-2015 (Seaweed OA Resilience project)</p>\\r\\n\\r\\n<p><a href=\"https://www.bco-dmo.org/dataset/731134\">Plocamium cultures pH and temperature</a>: Plocamium culture pot pH and temperature time-series at 10 minute sampling intervals from 2014-2015 (Seaweed OA Resilience project)</p>\\r\\n\\r\\n<p><a href=\"https://www.bco-dmo.org/dataset/731452\">Plocamium exptl treatments summary</a>: Summary of pCO2 and temperature treatment combinations for each culture pot and experimental trial (Seaweed OA Resilience project)</p>\\r\\n\\r\\n<p><a href=\"https://www.bco-dmo.org/dataset/726452\">Plocamium growth and biomass</a>: Experimental results of Plocamium cartilagineum growth and biomass as a function of pCO2 and temperature (Seaweed OA Resilience project)</p>\\r\\n\\r\\n<p><a href=\"https://www.bco-dmo.org/dataset/731213\">Plocamium pigments</a>: Photosynthetic pigment concentrations in Plocamium cartilagineum, trials 3-8, 2014-2015 (Seaweed OA Resilience project)</p>\\r\\n\\r\\n<p><a href=\"https://www.bco-dmo.org/dataset/726480\">Plocamium: pH drift</a>: Carbonate chemistry over a time-course in pH drift experiments with Plocamium growth collected at Catalina Island, 2014-2015 (Seaweed OA Resilience project)</p>\\r\\n\\r\\n<p><a href=\"https://www.bco-dmo.org/dataset/733238\">Rapid Light Curves_PAM</a>: Measurements of fluorescence of photosystem II in Plocamium cartilagineum under various and pCO2 and temperature conditions</p>\\r\\n  \n",
      "5                                                                                                                                                                                                                                                                                                                                                                                                                                                                                                                                                                                                                                                                                                                                                                                                                                                                                                                                                                                                                                                                                                                                                                                                                                                                                                                                                                                                                                                                                                                                                                                                                                                                                                                                                                                                      This dataset contains concentrations of colored dissolved organic matter, dissolved organic carbon, and total phosphorous from experiments conducted at the University of Hawaii, Manoa in 2015.\\r\\n\\r\\nExperiment CRANE (Coral Reef Acclimation to Nutrient Enrichment) identifies a monthlong mesocosm incubation study designed to understand the response of the coral reef community to long-term nutrient exposure. This experiment compared the magnitude and composition of exudates from four dominant coral reef benthic primary producer constituents (coral, macroalgae, sand and rubble) factorially under three different inorganic nutrient treatments (ambient, low, and high) over four weeks. \\r\\n\\r\\nThis dataset was published in Quinlan et al. (2018) and Silbiger et al. (2018).  \n",
      "6                                                                                                                                                                                                                                                                                                                                                                                                                                                                                                                                                                                                                                                                                                                                                                                                                                                                                                                                                                                                                                                                                                                                                                                                                                                                                                                              <p>Partial pressure of carbon dioxide (pCO2) from in-situ flume experiments to manipulate pCO2 on shallow tropical coral reef communities at UCB Gump Research Station Moorea, French Polynesia in May of 2018.&nbsp; These data are for a proof of trial experiment for the Shallow COral REef Free Ocean Carbon Enrichment (SCORE FOCE), outlined in Srednick et al. (2020).</p>\\r\\n\\r\\n<p>Related datasets (all from the same in-situ flume experiment):<br />\\r\\nSrednick et al. 2020 - L&amp;O Methods - PAR: https://www.bco-dmo.org/dataset/812853<br />\\r\\nSrednick et al. 2020 - L&amp;O Methods - pH seafet: https://www.bco-dmo.org/dataset/812864<br />\\r\\nSrednick et al. 2020 - L&amp;O Methods - temperature: https://www.bco-dmo.org/dataset/812873<br />\\r\\nSrednick et al. 2020 - L&amp;O Methods - TA_SAL: https://www.bco-dmo.org/dataset/812891<br />\\r\\nSrednick et al. 2020 - L&amp;O Methods - DO_flux: https://www.bco-dmo.org/dataset/812900<br />\\r\\nSrednick et al. 2020 - L&amp;O Methods - Biological: https://www.bco-dmo.org/dataset/812909<br />\\r\\nSrednick et al. 2020 - L&amp;O Methods - Flow: https://www.bco-dmo.org/dataset/812918<br />\\r\\nSrednick et al. 2020 - L&amp;O Methods - DO: https://www.bco-dmo.org/dataset/812927</p>\\r\\n  \n",
      "7                                                                                                                                                                                                                                                                                                                                                                                                                                                                                                        <p>A calibrated YSI 6920 multisonde was used to obtain in-situ temperature at both the surface (~0.5 m) and the bottom (within 0.5 m from the sediment-water interface) of the water column, and a Van Dorn water sampler was used to take water samples from both the surface and bottom of the water column.&nbsp;</p>\\r\\n\\r\\n<p>Following the standard OA operating protocol, unfiltered water samples were collected in 250 mL borosilicate glass bottles for carbonate system characterization. 100 ÂµL saturated mercuric chloride (HgCl2) was added into the samples bottles and bottle stoppers were replaced after the application the ApiezonÂ® L grease and secured with a rubber band and hose clamp. These preserved samples were used for salinity, total alkalinity (TA), total dissolved inorganic carbon (DIC), and pH analyses within two months of sample collection.&nbsp;</p>\\r\\n\\r\\n<p>Salinity was measured using a benchtop salinometer (Orion Starâ¢ A12, Thermo Scientific) which was calibrated using MilliQ and know salinity certified reference material (CRM). TA was analyzed at 22Â±0.1Â°C using Gran titration on an automated titration system (AS-Alk2, Apollo Scitech Inc.). DIC was analyzed using infrared detection on a AS-C3 DIC analyzer (Apollo Scitech Inc.). CRM was used to ensure the quality of the analysis and optimal performance of the instruments. Total scale pH for salinity â¥20 samples was measured at 25Â°C using purified m-cresol purple. The equation in Liu et al. (2011) was used in the calculation of pH values. For low salinity waters (&lt;20), a potentiometric method was used to measure pH. A OrionÂ® Rossâ¢ high precision glass electrode was used and three pH standard (4.01, 7.00, and 10.01) were used to calibrate the electrode. Calcium concentration ([Ca2+]) was measured (from non-preserved water samples) using an automatic titration with an ethylene glycol tetraacetic acid (EGTA) titrant on a Metrohm Titrando. The end-point was detected using a Metrohm calcium ion-selective electrode.</p>\\r\\n  \n",
      "8                                                                                                                                                                               <h2>Particulate Organic Carbon and Nitrogen<br />\\r\\nfrom Ice and Water Samples</h2>\\r\\n\\r\\n<p><strong>Data Note:</strong><br />\\r\\nThis data set consists of samples derived from a varity substrats, depths within substrats and sampling devices: ice, slush, brine, water, ice core, bottles, buckets etc. The user may want to out edit the file(s) before use.</p>\\r\\n\\r\\n<p><strong>Methods:</strong><br />\\r\\nWeight percent carbon, hydrogen, and nitrogen were determined by combustion analysis at the UCSB Marine Science Institute Analytical Laboratory (www.msi.ucsb.edu/Analab/index.html), using automated organic elemental analyzers (CHNs) manufactured by Exeter Analytical (www.eai1.com) (formerly Control Equipment Corp.), Model 440XA. Instruments were operated following manufacturer-recommended settings and procedures, and calibrated using acetanilide, with performance being monitored to achieve an analytical precision of 0.3 wt. %. (per Wendy Kozlowski, e-mail 11/23/03)</p>\\r\\n\\r\\n<p>POC and PON values have been corrected for a filtered sea water blank value of: 10.32 <em>u</em>g for POC and 1.59 <em>u</em>g for PON.</p>\\r\\n\\r\\n<p><strong>A short note on the \"grid\":</strong> The grid is a Cartesian plane covering the sample region in which distances are easy to calculate. The grid system used for SOGLOBEC is a universal transverse mercator (UTM) projection with a certain base point and rotation. The base point was chosen in the far south and the rotation was chosen to create one axis along the peninsula, and the other offshore. The units of UTM are meters, but the points are chosen in km rounded to the nearest km. Negative numbers mean that samples were taken southwest of the y axis or southeast of the x axis. For more details see: <a href=\"http://globec.whoi.edu/so-dir/soglobec.grid.txt\"> Complete explanation of the Southern Ocean grid system. </a></p>\\r\\n\\r\\n<p>&nbsp;</p>\\r\\n\\r\\n<p><strong>Data contributed by:</strong><br />\\r\\nMaria Vernet<br />\\r\\nIntegrative Oceanographic Division<br />\\r\\nScripps Institution of Oceanography<br />\\r\\nUniversity of California San Diego<br />\\r\\nLa Jolla, California 92093-0218</p>\\r\\n\\r\\n<p>Phone: 1-858-534-5322<br />\\r\\nE-mail: <a href=\"mailto:mvernet@ucsd.edu\">mvernet@ucsd.edu</a><br />\\r\\n<br />\\r\\n<br />\\r\\n<em>Last updated: December 13, 2005; gfh</em></p>\\r\\n  \n",
      "9                                                                                                                                                                                                                                                                                                                                                                                                                                                                                                                                                                                                                                                                                                                                                                                                                                                                        <p>This dataset reports the chlorophyll a concentration per unit biomass of Ulva lactuca&nbsp;grown in closed culture pots at varying pCO2 levels.</p>\\r\\n\\r\\n<p><strong>Related Datasets:</strong><br />\\r\\n<a href=\"https://www.bco-dmo.org/dataset/732177\">Ulva: Carbonate chemistry pCO2</a>: Carbonate chemistry of Ulva lactuca culture pots testing the effects of pCO2 variability (Seaweed OA Resilience project)<br />\\r\\n<a href=\"https://www.bco-dmo.org/dataset/732564\">Ulva: CHN and stable isotopes</a>: Stable isotope ratios and mass of carbon and nitrogen in Ulva cells under ocean acidification conditions (Seaweed OA Resilience project)<br />\\r\\n<a href=\"https://www.bco-dmo.org/dataset/732600\">Ulva: Growth</a>: Growth rates of Ulva exposed to different average and variability of pCO2 (Seaweed OA Resilience project)<br />\\r\\n<a href=\"https://www.bco-dmo.org/dataset/732493\">Ulva: pH and temperature time-series</a>: Time-series at 10 minute sampling interval of pH and temperature in Ulva culture pots (Seaweed OA Resilience project)<br />\\r\\n<a href=\"https://www.bco-dmo.org/dataset/732464\">Ulva: pH Drift</a>: Carbonate chemistry over a time course with Ulva in pH drift experiments (Seaweed OA Resilience project)<br />\\r\\n<a href=\"https://www.bco-dmo.org/dataset/732625\">Ulva: Photosynthesis and respiration</a>: Rates of photosynthesis and respiration by Ulva exposed to different average and variability of pCO2 (Seaweed OA Resilience project)<br />\\r\\n<a href=\"https://www.bco-dmo.org/dataset/732587\">Ulva: seawater delta13C</a>: Stable isotope ratio and concentration of carbon in seawater from Ulva OA experiments (Seaweed OA Resilience project)</p>\\r\\n  \n"
     ]
    }
   ],
   "source": [
    "query= \"\"\"prefix schema: <http://schema.org/>\n",
    "prefix sschema: <https://schema.org/>\n",
    "SELECT DISTINCT ?s ?g  (MIN(?disurl) as ?url) (MAX(?score1) as ?score)   ?name ?description\n",
    "WHERE {\n",
    "  ?lit bds:search \"Carbon\" .\n",
    "  ?lit bds:matchAllTerms true.\n",
    "  ?lit bds:relevance ?score1 .\n",
    "  ?s ?p ?lit .\n",
    "\n",
    "  VALUES (?dataset) { ( schema:Dataset ) ( sschema:Dataset ) }\n",
    "  ?s a ?dataset .\n",
    "  ?s schema:name|sschema:name ?name .\n",
    "\n",
    "  graph ?g {\n",
    "  ?s schema:description|sschema:description ?description .\n",
    "  }\n",
    "\n",
    "  OPTIONAL {\n",
    "\t?s schema:distribution|sschema:distribution ?dis .\n",
    "\t?dis schema:contentUrl |sschema:contentUrl  ?disurl .\n",
    "  }\n",
    "\n",
    "}\n",
    "GROUP BY ?s ?g ?name ?description\n",
    "ORDER BY DESC(?score1)\n",
    "LIMIT 10\n",
    "OFFSET 0\n",
    "       \"\"\"\n",
    "ecoresults = get_sparql_dataframe(ecograph, query)\n",
    "\n",
    "print (ecoresults)\n"
   ]
  },
  {
   "cell_type": "markdown",
   "id": "contemporary-endorsement",
   "metadata": {},
   "source": [
    "## Query with parameters\n",
    "\n",
    "The queries in geocodes and geodex are parameterized.\n",
    "Note while python templates usually use \n",
    "$identifier ${identifier} is equivalent to $identifier."
   ]
  },
  {
   "cell_type": "code",
   "execution_count": 8,
   "id": "valued-broadcasting",
   "metadata": {},
   "outputs": [],
   "source": [
    "\n",
    "geocodesFullText = \"\"\"\n",
    "PREFIX rdf: <http://www.w3.org/1999/02/22-rdf-syntax-ns#>\n",
    "PREFIX rdfs: <http://www.w3.org/2000/01/rdf-schema#>\n",
    "prefix schema: <http://schema.org/>\n",
    "prefix sschema: <https://schema.org/>\n",
    "SELECT distinct ?subj ?g ?resourceType ?name ?description  ?pubname (GROUP_CONCAT(DISTINCT ?placename; SEPARATOR=\", \") AS ?placenames)\n",
    "        (GROUP_CONCAT(DISTINCT ?kwu; SEPARATOR=\", \") AS ?kw)\n",
    "        ?datep  (GROUP_CONCAT(DISTINCT ?url; SEPARATOR=\", \") AS ?disurl) (MAX(?score1) as ?score)\n",
    "\n",
    "        WHERE {\n",
    "            ?lit bds:search \"${q}\" .\n",
    "            ?lit bds:matchAllTerms ${exact} .\n",
    "            ?lit bds:relevance ?score1 .\n",
    "            ?subj ?p ?lit .\n",
    "            BIND (IF (exists {?subj a schema:Dataset .} ||exists{?subj a sschema:Dataset .} , \"data\", \"tool\") AS ?resourceType).\n",
    "            filter( ?score1 > 0.04).\n",
    "          graph ?g {\n",
    "            Minus {?subj a sschema:ResearchProject } .\n",
    "            Minus {?subj a schema:ResearchProject } .\n",
    "            Minus {?subj a sschema:PropertyValue } .\n",
    "            Minus {?subj a schema:PropertyValue } .\n",
    "            Minus {?subj a schema:Person } .\n",
    "            Minus {?subj a sschema:Person } .\n",
    "             ?subj schema:name|sschema:name ?name .\n",
    "                       ?subj schema:description|sschema:description ?description .\n",
    "             }\n",
    "            optional {?subj schema:distribution/schema:url|schema:subjectOf/schema:url ?url .}\n",
    "            OPTIONAL {?subj schema:datePublished|sschema:datePublished ?date_p .}\n",
    "            OPTIONAL {?subj schema:publisher/schema:name|sschema:publisher/sschema:name ?pub_name .}\n",
    "            OPTIONAL {?subj schema:spatialCoverage/schema:name|sschema:spatialCoverage/sschema:name|sschema:sdPublisher ?place_name .}\n",
    "            OPTIONAL {?subj schema:keywords|sschema:keywords ?kwu .}\n",
    "            BIND ( IF ( BOUND(?date_p), ?date_p, \"No datePublished\") as ?datep ) .\n",
    "            BIND ( IF ( BOUND(?pub_name), ?pub_name, \"No Publisher\") as ?pubname ) .\n",
    "            BIND ( IF ( BOUND(?place_name), ?place_name, \"No spatialCoverage\") as ?placename ) .\n",
    "        }\n",
    "        GROUP BY ?subj ?pubname ?placenames ?kw ?datep ?disurl ?score ?name ?description  ?resourceType ?g\n",
    "        ORDER BY DESC(?score)\n",
    "LIMIT ${n}\n",
    "OFFSET ${o}\n",
    "\"\"\"\n",
    "geocodesFullTextTemplate = Template(geocodesFullText)"
   ]
  },
  {
   "cell_type": "code",
   "execution_count": 9,
   "outputs": [
    {
     "name": "stdout",
     "output_type": "stream",
     "text": [
      "                                subj  \\\n",
      "0  https://doi.org/10.7283/HZN1-5910   \n",
      "1  https://doi.org/10.7283/YJK0-B215   \n",
      "2  https://doi.org/10.7283/N74Q-GA66   \n",
      "3  https://doi.org/10.7283/5ASB-9V26   \n",
      "4  https://doi.org/10.7283/5X1E-CR48   \n",
      "\n",
      "                                                                    g  \\\n",
      "0  urn:gleaner:milled:unavco:5a0d55f5508ec2df891080bd878ad6ab88d867e3   \n",
      "1  urn:gleaner:milled:unavco:032b4fbec6a37f19e09fc53b2c2bfba2b0e7630c   \n",
      "2  urn:gleaner:milled:unavco:3c0ce6847d2045f44a0cf1edecbf7c2b8af29052   \n",
      "3  urn:gleaner:milled:unavco:bf04e37ec94c5c295f1ada82c2fb70d5644b41fa   \n",
      "4  urn:gleaner:milled:unavco:5cc1edda4117afe4f1e51d4db4e075677f2ee31c   \n",
      "\n",
      "  resourceType name  \\\n",
      "0         data        \n",
      "1         data        \n",
      "2         data        \n",
      "3         data        \n",
      "4         data        \n",
      "\n",
      "                                                                                    description  \\\n",
      "0  GPS/GNSS stations: Long-term continuous or semi-continuous occupations at multiple locations   \n",
      "1                               GPS/GNSS campaign: Short-term occupations at multiple locations   \n",
      "2                               GPS/GNSS campaign: Short-term occupations at multiple locations   \n",
      "3                               GPS/GNSS campaign: Short-term occupations at multiple locations   \n",
      "4                               GPS/GNSS campaign: Short-term occupations at multiple locations   \n",
      "\n",
      "        pubname          placenames kw             datep disurl  \\\n",
      "0  UNAVCO, Inc.  No spatialCoverage     No datePublished          \n",
      "1  UNAVCO, Inc.  No spatialCoverage     No datePublished          \n",
      "2  UNAVCO, Inc.  No spatialCoverage     No datePublished          \n",
      "3  UNAVCO, Inc.  No spatialCoverage     No datePublished          \n",
      "4  UNAVCO, Inc.  No spatialCoverage     No datePublished          \n",
      "\n",
      "                 score  \n",
      "0  0.22097086912079608  \n",
      "1  0.22097086912079608  \n",
      "2  0.22097086912079608  \n",
      "3  0.22097086912079608  \n",
      "4  0.17677669529663687  \n"
     ]
    }
   ],
   "source": [
    "q = 'Ridgecrest Earthquake'\n",
    "exact = True # match all terms\n",
    "o = 0 # start\n",
    "n = 10 # limit number of results to 10\n",
    "\n",
    "ridgecrest_query = geocodesFullTextTemplate.substitute(q=q,exact=exact,n=10,o=0)\n",
    "\n",
    "ridgecrestresults = get_sparql_dataframe(ecograph, ridgecrest_query)\n",
    "print(ridgecrestresults)"
   ],
   "metadata": {
    "collapsed": false,
    "pycharm": {
     "name": "#%%\n"
    }
   }
  },
  {
   "cell_type": "markdown",
   "source": [
    "Selecting the distributions\n",
    "\n",
    "since there can be many distributions, a separate query used.\n",
    "\n",
    "``` SPARQL\n",
    "PREFIX sdos: <https://schema.org/>\n",
    "PREFIX schemaold: <http://schema.org/>\n",
    "select DISTINCT    ?durl   ?dist  ?type\n",
    "WHERE\n",
    "{\n",
    "   graph <${g}> {\n",
    "   ?s schemaold:distribution|sdos:distribution ?dist ;\n",
    "        schemaold:name|sdos:name ?dataname  .\n",
    "   ?dist  schemaold:encodingFormat|sdos:encodingFormat ?type .\n",
    "         OPTIONAL {?dist sdos:contentUrl ?durl }.\n",
    " }\n",
    " BIND (str(?type) as ?label)\n",
    "\n",
    "}\n",
    "```"
   ],
   "metadata": {
    "collapsed": false,
    "pycharm": {
     "name": "#%% md\n"
    }
   }
  },
  {
   "cell_type": "code",
   "execution_count": 4,
   "outputs": [],
   "source": [
    "getDistributionsQueryString = \"\"\"\n",
    "PREFIX sdos: <https://schema.org/>\n",
    "PREFIX schemaold: <http://schema.org/>\n",
    "select DISTINCT    ?durl   ?dist  ?type\n",
    "WHERE\n",
    "{\n",
    "   graph <${g}> {\n",
    "   ?s schemaold:distribution|sdos:distribution ?dist ;\n",
    "        schemaold:name|sdos:name ?dataname  .\n",
    "   ?dist  schemaold:encodingFormat|sdos:encodingFormat ?type .\n",
    "         OPTIONAL {?dist sdos:contentUrl ?durl }.\n",
    " }\n",
    " BIND (str(?type) as ?label)\n",
    "\n",
    "}\n",
    "\"\"\"\n",
    "getDistributionsTemplate = Template(getDistributionsQueryString)\n"
   ],
   "metadata": {
    "collapsed": false,
    "pycharm": {
     "name": "#%%\n"
    }
   }
  },
  {
   "cell_type": "code",
   "execution_count": 6,
   "outputs": [
    {
     "name": "stdout",
     "output_type": "stream",
     "text": [
      "                                                                                                                    durl  \\\n",
      "0                                    https://darchive.mblwhoilibrary.org/bitstream/1912/25095/2/QuIPP2016_Tchain_30m.mat   \n",
      "1         https://darchive.mblwhoilibrary.org/bitstream/1912/25095/3/dataset-742137_temperature-thermistor-chain__v1.tsv   \n",
      "2  https://darchive.mblwhoilibrary.org/bitstream/1912/25095/4/dataset-742137_temperature-thermistor-chain__v1_README.txt   \n",
      "3                                     https://darchive.mblwhoilibrary.org/bitstream/1912/25095/5/Dataset_description.pdf   \n",
      "\n",
      "                                            dist                       type  \n",
      "0  http://lod.bco-dmo.org/id/dataset-file/785557         application/matlab  \n",
      "1  http://lod.bco-dmo.org/id/dataset-file/785558  text/tab-separated-values  \n",
      "2  http://lod.bco-dmo.org/id/dataset-file/785559                 text/plain  \n",
      "3  http://lod.bco-dmo.org/id/dataset-file/785560            application/pdf  \n"
     ]
    }
   ],
   "source": [
    "o = 'urn:gleaner:milled:bcodmo:69c27e67c39ab19c8110ff56fc1d05472bf91594'\n",
    "\n",
    "# hasDownloadsQuery = hasDownloadsTemplate.substitute(g=o)\n",
    "# hasToolsResult = get_sparql_dataframe(ecograph, hasDownloadsQuery)\n",
    "\n",
    "getDistributionsQuery = getDistributionsTemplate.substitute(g=o)\n",
    "itemresults = get_sparql_dataframe(ecograph, getDistributionsQuery)\n",
    "\n",
    "print (itemresults)\n"
   ],
   "metadata": {
    "collapsed": false,
    "pycharm": {
     "name": "#%%\n"
    }
   }
  },
  {
   "cell_type": "markdown",
   "source": [
    "distributions for a result set"
   ],
   "metadata": {
    "collapsed": false,
    "pycharm": {
     "name": "#%% md\n"
    }
   }
  },
  {
   "cell_type": "code",
   "execution_count": 17,
   "outputs": [],
   "source": [
    "def addDistributions( g):\n",
    "    getDistributionsQuery = getDistributionsTemplate.substitute(g=g)\n",
    "    return get_sparql_dataframe(ecograph, getDistributionsQuery)\n",
    "\n",
    "ridgecrestresults['distributions'] = ridgecrestresults['g'].apply(lambda g: addDistributions( g))\n"
   ],
   "metadata": {
    "collapsed": false,
    "pycharm": {
     "name": "#%%\n"
    }
   }
  },
  {
   "cell_type": "markdown",
   "id": "graduate-reliance",
   "metadata": {
    "pycharm": {
     "name": "#%% md\n"
    }
   },
   "source": [
    "Selecting resources\n",
    "\n",
    "```SPARQL\n",
    "PREFIX schema:  <https://schema.org/>\n",
    "PREFIX schemaold:  <http://schema.org/>\n",
    "select DISTINCT ?rrs ?name ?curl ?landingPage\n",
    "WHERE                    {\n",
    "    graph <${g}>\n",
    "      {\n",
    "        {\n",
    "          ?s schemaold:distribution|schema:distribution ?dist .\n",
    "          ?dist  schemaold:encodingFormat|schema:encodingFormat ?type .\n",
    "          ?dist schemaold:contentUrl|schema:contentUrl|schema:url|schemaold:url ?curl\n",
    "        }\n",
    "        UNION {\n",
    "          VALUES (?dataset) { ( schema:Dataset ) ( schemaold:Dataset ) }\n",
    "          ?s a ?dataset .\n",
    "          ?s  schemaold:encodingFormat|schema:encodingFormat ?type .\n",
    "          }\n",
    "     }\n",
    "     BIND (str(?type) as ?label)\n",
    "     SERVICE <http://132.249.238.169:8080/fuseki/ecrr/query> {\n",
    "      GRAPH <http://earthcube.org/gleaner-summoned>\n",
    "       {\n",
    "          ?rrs schema:supportingData ?df.\n",
    "              ?df schema:encodingFormat  ?label ;\n",
    "                  schema:position \"input\".\n",
    "              ?rrs schema:name ?name.\n",
    "               ?rrs schema:subjectOf/schema:url ?landingPage\n",
    "       }\n",
    "   }\n",
    "}\n",
    "````"
   ]
  },
  {
   "cell_type": "code",
   "execution_count": 56,
   "outputs": [],
   "source": [
    "getDownloadsQueryString = \"\"\"PREFIX schema:  <https://schema.org/>\n",
    "PREFIX schemaold:  <http://schema.org/>\n",
    "select DISTINCT ?rrs ?name ?curl ?landingPage\n",
    "WHERE                    {\n",
    "    graph <${g}>\n",
    "      {\n",
    "        {\n",
    "          ?s schemaold:distribution|schema:distribution ?dist .\n",
    "          ?dist  schemaold:encodingFormat|schema:encodingFormat ?type .\n",
    "          ?dist schemaold:contentUrl|schema:contentUrl|schema:url|schemaold:url ?curl\n",
    "        }\n",
    "        UNION {\n",
    "          VALUES (?dataset) { ( schema:Dataset ) ( schemaold:Dataset ) }\n",
    "          ?s a ?dataset .\n",
    "          ?s  schemaold:encodingFormat|schema:encodingFormat ?type .\n",
    "          }\n",
    "     }\n",
    "     BIND (str(?type) as ?label)\n",
    "     SERVICE <http://132.249.238.169:8080/fuseki/ecrr/query> {\n",
    "      GRAPH <http://earthcube.org/gleaner-summoned>\n",
    "       {\n",
    "          ?rrs schema:supportingData ?df.\n",
    "              ?df schema:encodingFormat  ?label ;\n",
    "                  schema:position \"input\".\n",
    "              ?rrs schema:name ?name.\n",
    "               ?rrs schema:subjectOf/schema:url ?landingPage\n",
    "       }\n",
    "   }\n",
    "}\n",
    "\"\"\"\n",
    "getDownloadsTemplate = Template(getDownloadsQueryString)\n",
    "\n",
    "# this will not work for now.\n",
    "# returns boolean, no vars, so error in sqarql parse\n",
    "hasDownloadsQueryString = \"\"\"PREFIX sdo:  <https://schema.org/>\n",
    "\n",
    "ASK\n",
    "WHERE\n",
    "{\n",
    "  graph <urn:gleaner:milled:ocd:917529917c29eae1fcab0618f8f85f5587c771bb> {\n",
    "\n",
    "   ?s  <https://schema.org/additionType> ?type .\n",
    "\t}\n",
    "\t  BIND (str(?type) as ?label)\n",
    "   SERVICE <http://132.249.238.169:8080/fuseki/ecrr/query> {\n",
    "\t   GRAPH <http://earthcube.org/gleaner-summoned>\n",
    "\t   {\n",
    "\t\t ?rrs sdo:supportingData/sdo:encodingFormat  ?label .\n",
    "\t\t ?rrs sdo:name ?rrname.\n",
    "\t\t}\n",
    "\t}\n",
    " }\n",
    "\"\"\"\n",
    "\n",
    "hasDownloadsTemplate = Template(hasDownloadsQueryString)"
   ],
   "metadata": {
    "collapsed": false,
    "pycharm": {
     "name": "#%%\n"
    }
   }
  },
  {
   "cell_type": "code",
   "execution_count": 57,
   "id": "limited-queensland",
   "metadata": {},
   "outputs": [
    {
     "ename": "KeyError",
     "evalue": "'vars'",
     "output_type": "error",
     "traceback": [
      "\u001B[0;31m---------------------------------------------------------------------------\u001B[0m",
      "\u001B[0;31mKeyError\u001B[0m                                  Traceback (most recent call last)",
      "\u001B[0;32m<ipython-input-57-8f565780b48a>\u001B[0m in \u001B[0;36m<module>\u001B[0;34m\u001B[0m\n\u001B[1;32m      3\u001B[0m \u001B[0;34m\u001B[0m\u001B[0m\n\u001B[1;32m      4\u001B[0m \u001B[0mhasDownloadsQuery\u001B[0m \u001B[0;34m=\u001B[0m \u001B[0mhasDownloadsTemplate\u001B[0m\u001B[0;34m.\u001B[0m\u001B[0msubstitute\u001B[0m\u001B[0;34m(\u001B[0m\u001B[0mg\u001B[0m\u001B[0;34m=\u001B[0m\u001B[0mo\u001B[0m\u001B[0;34m)\u001B[0m\u001B[0;34m\u001B[0m\u001B[0;34m\u001B[0m\u001B[0m\n\u001B[0;32m----> 5\u001B[0;31m \u001B[0mhasToolsResult\u001B[0m \u001B[0;34m=\u001B[0m \u001B[0mget_sparql_dataframe\u001B[0m\u001B[0;34m(\u001B[0m\u001B[0mecograph\u001B[0m\u001B[0;34m,\u001B[0m \u001B[0mhasDownloadsQuery\u001B[0m\u001B[0;34m)\u001B[0m\u001B[0;34m\u001B[0m\u001B[0;34m\u001B[0m\u001B[0m\n\u001B[0m\u001B[1;32m      6\u001B[0m \u001B[0;34m\u001B[0m\u001B[0m\n\u001B[1;32m      7\u001B[0m \u001B[0mgetDownloadsQuery\u001B[0m \u001B[0;34m=\u001B[0m \u001B[0mgetDownloadsTemplate\u001B[0m\u001B[0;34m.\u001B[0m\u001B[0msubstitute\u001B[0m\u001B[0;34m(\u001B[0m\u001B[0mg\u001B[0m\u001B[0;34m=\u001B[0m\u001B[0mo\u001B[0m\u001B[0;34m)\u001B[0m\u001B[0;34m\u001B[0m\u001B[0;34m\u001B[0m\u001B[0m\n",
      "\u001B[0;32m<ipython-input-5-fe6bda39f091>\u001B[0m in \u001B[0;36mget_sparql_dataframe\u001B[0;34m(service, query)\u001B[0m\n\u001B[1;32m     10\u001B[0m \u001B[0;34m\u001B[0m\u001B[0m\n\u001B[1;32m     11\u001B[0m     \u001B[0mprocessed_results\u001B[0m \u001B[0;34m=\u001B[0m \u001B[0mjson\u001B[0m\u001B[0;34m.\u001B[0m\u001B[0mload\u001B[0m\u001B[0;34m(\u001B[0m\u001B[0mresult\u001B[0m\u001B[0;34m.\u001B[0m\u001B[0mresponse\u001B[0m\u001B[0;34m)\u001B[0m\u001B[0;34m\u001B[0m\u001B[0;34m\u001B[0m\u001B[0m\n\u001B[0;32m---> 12\u001B[0;31m     \u001B[0mcols\u001B[0m \u001B[0;34m=\u001B[0m \u001B[0mprocessed_results\u001B[0m\u001B[0;34m[\u001B[0m\u001B[0;34m'head'\u001B[0m\u001B[0;34m]\u001B[0m\u001B[0;34m[\u001B[0m\u001B[0;34m'vars'\u001B[0m\u001B[0;34m]\u001B[0m\u001B[0;34m\u001B[0m\u001B[0;34m\u001B[0m\u001B[0m\n\u001B[0m\u001B[1;32m     13\u001B[0m \u001B[0;34m\u001B[0m\u001B[0m\n\u001B[1;32m     14\u001B[0m     \u001B[0mout\u001B[0m \u001B[0;34m=\u001B[0m \u001B[0;34m[\u001B[0m\u001B[0;34m]\u001B[0m\u001B[0;34m\u001B[0m\u001B[0;34m\u001B[0m\u001B[0m\n",
      "\u001B[0;31mKeyError\u001B[0m: 'vars'"
     ]
    }
   ],
   "source": [
    "# known working uri\n",
    "o = 'urn:gleaner:milled:magic:c164daaca4ae58122d76ec48ecae1c1c45819fcf'\n",
    "\n",
    "# hasDownloadsQuery = hasDownloadsTemplate.substitute(g=o)\n",
    "# hasToolsResult = get_sparql_dataframe(ecograph, hasDownloadsQuery)\n",
    "\n",
    "getDownloadsQuery = getDownloadsTemplate.substitute(g=o)\n",
    "itemresults = get_sparql_dataframe(ecograph, getDownloadsQuery)"
   ]
  },
  {
   "cell_type": "markdown",
   "id": "signal-welding",
   "metadata": {
    "pycharm": {
     "name": "#%% md\n"
    }
   },
   "source": [
    "batching a set of tools\n",
    "Get a list of tools for a set of results.\n",
    "\n",
    "hasTools not working. Returns a boolean. breaks some part of sparql stack.\n"
   ]
  },
  {
   "cell_type": "code",
   "execution_count": 49,
   "outputs": [],
   "source": [
    "# def hasTools( g):\n",
    "#     hasDownloadsQuery = hasDownloadsTemplate.substitute(g=g)\n",
    "#     return get_sparql_dataframe(ecograph, hasDownloadsQuery)\n",
    "def addTools( g):\n",
    "    getDownloadsQuery = getDownloadsTemplate.substitute(g=g)\n",
    "    return get_sparql_dataframe(ecograph, getDownloadsQuery)"
   ],
   "metadata": {
    "collapsed": false,
    "pycharm": {
     "name": "#%%\n"
    }
   }
  },
  {
   "cell_type": "code",
   "execution_count": 50,
   "id": "third-hospital",
   "metadata": {
    "pycharm": {
     "name": "#%%\n"
    }
   },
   "outputs": [],
   "source": [
    "# has\n",
    "# ridgecrestresults['hastools'] =ridgecrestresults['g'].apply(lambda g: hasTools( g))\n",
    "ridgecrestresults['tools'] = ridgecrestresults['g'].apply(lambda g: addTools( g))\n"
   ]
  }
 ],
 "metadata": {
  "kernelspec": {
   "display_name": "Python 3",
   "language": "python",
   "name": "python3"
  },
  "language_info": {
   "codemirror_mode": {
    "name": "ipython",
    "version": 3
   },
   "file_extension": ".py",
   "mimetype": "text/x-python",
   "name": "python",
   "nbconvert_exporter": "python",
   "pygments_lexer": "ipython3",
   "version": "3.8.6"
  }
 },
 "nbformat": 4,
 "nbformat_minor": 5
}